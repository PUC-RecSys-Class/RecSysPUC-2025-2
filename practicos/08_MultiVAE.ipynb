{
  "nbformat": 4,
  "nbformat_minor": 0,
  "metadata": {
    "colab": {
      "provenance": [],
      "gpuType": "T4"
    },
    "kernelspec": {
      "name": "python3",
      "display_name": "Python 3"
    },
    "language_info": {
      "name": "python"
    },
    "accelerator": "GPU"
  },
  "cells": [
    {
      "cell_type": "markdown",
      "source": [
        "# MultVAE - Práctico para IIC3633 - Sistemas Recomendadores\n",
        "Creado por Daniel Sebastián, fuertemente basado en los contenidos de [este repositorio](https://github.com/jrzaurin/RecoTour). Gran parte del código corresponde a dicha implementación."
      ],
      "metadata": {
        "id": "LibsZM648s66"
      }
    },
    {
      "cell_type": "markdown",
      "source": [
        "## 1. Preparar Datos\n",
        "Para este práctico, usaremos el *dataset* [Movielens](https://grouplens.org/datasets/movielens/20m/), el cual debe pasar por un procesamiento antes de ser usado en el modelo."
      ],
      "metadata": {
        "id": "flhg28TM9GJQ"
      }
    },
    {
      "cell_type": "markdown",
      "source": [
        "### 1.1 Descarga e importación de bibliotecas"
      ],
      "metadata": {
        "id": "l6rM0goc9vZt"
      }
    },
    {
      "cell_type": "code",
      "source": [
        "!pip install fire"
      ],
      "metadata": {
        "colab": {
          "base_uri": "https://localhost:8080/"
        },
        "id": "0o4IIDgBrlWC",
        "outputId": "bbbf6fc1-450e-45a6-d9d9-b72236f4c388"
      },
      "execution_count": null,
      "outputs": [
        {
          "output_type": "stream",
          "name": "stdout",
          "text": [
            "Collecting fire\n",
            "  Downloading fire-0.7.0.tar.gz (87 kB)\n",
            "\u001b[?25l     \u001b[90m━━━━━━━━━━━━━━━━━━━━━━━━━━━━━━━━━━━━━━━━\u001b[0m \u001b[32m0.0/87.2 kB\u001b[0m \u001b[31m?\u001b[0m eta \u001b[36m-:--:--\u001b[0m\r\u001b[2K     \u001b[90m━━━━━━━━━━━━━━━━━━━━━━━━━━━━━━━━━━━━━━━━\u001b[0m \u001b[32m87.2/87.2 kB\u001b[0m \u001b[31m4.6 MB/s\u001b[0m eta \u001b[36m0:00:00\u001b[0m\n",
            "\u001b[?25h  Preparing metadata (setup.py) ... \u001b[?25l\u001b[?25hdone\n",
            "Requirement already satisfied: termcolor in /usr/local/lib/python3.11/dist-packages (from fire) (3.0.1)\n",
            "Building wheels for collected packages: fire\n",
            "  Building wheel for fire (setup.py) ... \u001b[?25l\u001b[?25hdone\n",
            "  Created wheel for fire: filename=fire-0.7.0-py3-none-any.whl size=114249 sha256=d38b937619dd3b9054dc0b280670667dabb451422ee3f9ebccf5d2995be98502\n",
            "  Stored in directory: /root/.cache/pip/wheels/46/54/24/1624fd5b8674eb1188623f7e8e17cdf7c0f6c24b609dfb8a89\n",
            "Successfully built fire\n",
            "Installing collected packages: fire\n",
            "Successfully installed fire-0.7.0\n"
          ]
        }
      ]
    },
    {
      "cell_type": "code",
      "execution_count": null,
      "metadata": {
        "id": "0c7wHz2ord2-"
      },
      "outputs": [],
      "source": [
        "import os\n",
        "import sys\n",
        "import pandas as pd\n",
        "import numpy as np\n",
        "import pickle\n",
        "\n",
        "from fire import Fire\n",
        "from typing import Tuple, Dict, Union\n",
        "from pathlib import Path\n",
        "\n",
        "sys.path.append(os.path.abspath('../'))"
      ]
    },
    {
      "cell_type": "code",
      "source": [
        "!mkdir data\n",
        "!mkdir data/movielens_processed\n",
        "!mkdir results"
      ],
      "metadata": {
        "id": "U4ur0ykPCLlD"
      },
      "execution_count": null,
      "outputs": []
    },
    {
      "cell_type": "code",
      "execution_count": null,
      "metadata": {
        "id": "XUcs1oVTrd3F"
      },
      "outputs": [],
      "source": [
        "DATA_DIR = Path(\"./data\")\n",
        "data_path = DATA_DIR / \"movielens_processed\"\n",
        "new_colnames = [\"user\", \"item\", \"rating\", \"timestamp\"]"
      ]
    },
    {
      "cell_type": "markdown",
      "source": [
        "### 1.2 Descarga de datos"
      ],
      "metadata": {
        "id": "mBZwXzes94cQ"
      }
    },
    {
      "cell_type": "markdown",
      "source": [
        "Descargamos el dataset"
      ],
      "metadata": {
        "id": "QydLrhNH-Cv3"
      }
    },
    {
      "cell_type": "code",
      "source": [
        "!wget http://files.grouplens.org/datasets/movielens/ml-20m.zip\n",
        "!unzip /content/ml-20m.zip"
      ],
      "metadata": {
        "colab": {
          "base_uri": "https://localhost:8080/"
        },
        "id": "ZhUkbfvFsINF",
        "outputId": "e541b578-210e-47e9-e7e4-16aa2335e0db"
      },
      "execution_count": null,
      "outputs": [
        {
          "output_type": "stream",
          "name": "stdout",
          "text": [
            "--2025-04-14 12:20:22--  http://files.grouplens.org/datasets/movielens/ml-20m.zip\n",
            "Resolving files.grouplens.org (files.grouplens.org)... 128.101.65.152\n",
            "Connecting to files.grouplens.org (files.grouplens.org)|128.101.65.152|:80... connected.\n",
            "HTTP request sent, awaiting response... 200 OK\n",
            "Length: 198702078 (189M) [application/zip]\n",
            "Saving to: ‘ml-20m.zip’\n",
            "\n",
            "ml-20m.zip          100%[===================>] 189.50M  42.8MB/s    in 4.8s    \n",
            "\n",
            "2025-04-14 12:20:27 (39.2 MB/s) - ‘ml-20m.zip’ saved [198702078/198702078]\n",
            "\n",
            "Archive:  /content/ml-20m.zip\n",
            "   creating: ml-20m/\n",
            "  inflating: ml-20m/genome-scores.csv  \n",
            "  inflating: ml-20m/genome-tags.csv  \n",
            "  inflating: ml-20m/links.csv        \n",
            "  inflating: ml-20m/movies.csv       \n",
            "  inflating: ml-20m/ratings.csv      \n",
            "  inflating: ml-20m/README.txt       \n",
            "  inflating: ml-20m/tags.csv         \n"
          ]
        }
      ]
    },
    {
      "cell_type": "markdown",
      "source": [
        "Solamente usaremos el archivo que contiene los *ratings*."
      ],
      "metadata": {
        "id": "RQzLbWAs-FSf"
      }
    },
    {
      "cell_type": "code",
      "execution_count": null,
      "metadata": {
        "id": "qh6tBQQ1rd3J"
      },
      "outputs": [],
      "source": [
        "filename = \"ratings.csv\"\n",
        "raw_data = pd.read_csv(f'ml-20m/{filename}', header=0)\n",
        "raw_data.columns = new_colnames\n",
        "raw_data = raw_data[raw_data[\"rating\"] > 3.5]"
      ]
    },
    {
      "cell_type": "code",
      "execution_count": null,
      "metadata": {
        "colab": {
          "base_uri": "https://localhost:8080/"
        },
        "id": "ayoiJPPSrd3L",
        "outputId": "a76d15d3-baa7-4e9e-9f58-1d153383a3d5"
      },
      "outputs": [
        {
          "output_type": "execute_result",
          "data": {
            "text/plain": [
              "(9995410, 4)"
            ]
          },
          "metadata": {},
          "execution_count": 7
        }
      ],
      "source": [
        "raw_data.shape"
      ]
    },
    {
      "cell_type": "code",
      "execution_count": null,
      "metadata": {
        "colab": {
          "base_uri": "https://localhost:8080/",
          "height": 206
        },
        "id": "kWINLUewrd3N",
        "outputId": "b7004bf2-acdb-4c98-c979-768191667c53"
      },
      "outputs": [
        {
          "output_type": "execute_result",
          "data": {
            "text/plain": [
              "    user  item  rating   timestamp\n",
              "6      1   151     4.0  1094785734\n",
              "7      1   223     4.0  1112485573\n",
              "8      1   253     4.0  1112484940\n",
              "9      1   260     4.0  1112484826\n",
              "10     1   293     4.0  1112484703"
            ],
            "text/html": [
              "\n",
              "  <div id=\"df-b1878ae1-8cc6-40ef-a41c-d9c7ac006c32\" class=\"colab-df-container\">\n",
              "    <div>\n",
              "<style scoped>\n",
              "    .dataframe tbody tr th:only-of-type {\n",
              "        vertical-align: middle;\n",
              "    }\n",
              "\n",
              "    .dataframe tbody tr th {\n",
              "        vertical-align: top;\n",
              "    }\n",
              "\n",
              "    .dataframe thead th {\n",
              "        text-align: right;\n",
              "    }\n",
              "</style>\n",
              "<table border=\"1\" class=\"dataframe\">\n",
              "  <thead>\n",
              "    <tr style=\"text-align: right;\">\n",
              "      <th></th>\n",
              "      <th>user</th>\n",
              "      <th>item</th>\n",
              "      <th>rating</th>\n",
              "      <th>timestamp</th>\n",
              "    </tr>\n",
              "  </thead>\n",
              "  <tbody>\n",
              "    <tr>\n",
              "      <th>6</th>\n",
              "      <td>1</td>\n",
              "      <td>151</td>\n",
              "      <td>4.0</td>\n",
              "      <td>1094785734</td>\n",
              "    </tr>\n",
              "    <tr>\n",
              "      <th>7</th>\n",
              "      <td>1</td>\n",
              "      <td>223</td>\n",
              "      <td>4.0</td>\n",
              "      <td>1112485573</td>\n",
              "    </tr>\n",
              "    <tr>\n",
              "      <th>8</th>\n",
              "      <td>1</td>\n",
              "      <td>253</td>\n",
              "      <td>4.0</td>\n",
              "      <td>1112484940</td>\n",
              "    </tr>\n",
              "    <tr>\n",
              "      <th>9</th>\n",
              "      <td>1</td>\n",
              "      <td>260</td>\n",
              "      <td>4.0</td>\n",
              "      <td>1112484826</td>\n",
              "    </tr>\n",
              "    <tr>\n",
              "      <th>10</th>\n",
              "      <td>1</td>\n",
              "      <td>293</td>\n",
              "      <td>4.0</td>\n",
              "      <td>1112484703</td>\n",
              "    </tr>\n",
              "  </tbody>\n",
              "</table>\n",
              "</div>\n",
              "    <div class=\"colab-df-buttons\">\n",
              "\n",
              "  <div class=\"colab-df-container\">\n",
              "    <button class=\"colab-df-convert\" onclick=\"convertToInteractive('df-b1878ae1-8cc6-40ef-a41c-d9c7ac006c32')\"\n",
              "            title=\"Convert this dataframe to an interactive table.\"\n",
              "            style=\"display:none;\">\n",
              "\n",
              "  <svg xmlns=\"http://www.w3.org/2000/svg\" height=\"24px\" viewBox=\"0 -960 960 960\">\n",
              "    <path d=\"M120-120v-720h720v720H120Zm60-500h600v-160H180v160Zm220 220h160v-160H400v160Zm0 220h160v-160H400v160ZM180-400h160v-160H180v160Zm440 0h160v-160H620v160ZM180-180h160v-160H180v160Zm440 0h160v-160H620v160Z\"/>\n",
              "  </svg>\n",
              "    </button>\n",
              "\n",
              "  <style>\n",
              "    .colab-df-container {\n",
              "      display:flex;\n",
              "      gap: 12px;\n",
              "    }\n",
              "\n",
              "    .colab-df-convert {\n",
              "      background-color: #E8F0FE;\n",
              "      border: none;\n",
              "      border-radius: 50%;\n",
              "      cursor: pointer;\n",
              "      display: none;\n",
              "      fill: #1967D2;\n",
              "      height: 32px;\n",
              "      padding: 0 0 0 0;\n",
              "      width: 32px;\n",
              "    }\n",
              "\n",
              "    .colab-df-convert:hover {\n",
              "      background-color: #E2EBFA;\n",
              "      box-shadow: 0px 1px 2px rgba(60, 64, 67, 0.3), 0px 1px 3px 1px rgba(60, 64, 67, 0.15);\n",
              "      fill: #174EA6;\n",
              "    }\n",
              "\n",
              "    .colab-df-buttons div {\n",
              "      margin-bottom: 4px;\n",
              "    }\n",
              "\n",
              "    [theme=dark] .colab-df-convert {\n",
              "      background-color: #3B4455;\n",
              "      fill: #D2E3FC;\n",
              "    }\n",
              "\n",
              "    [theme=dark] .colab-df-convert:hover {\n",
              "      background-color: #434B5C;\n",
              "      box-shadow: 0px 1px 3px 1px rgba(0, 0, 0, 0.15);\n",
              "      filter: drop-shadow(0px 1px 2px rgba(0, 0, 0, 0.3));\n",
              "      fill: #FFFFFF;\n",
              "    }\n",
              "  </style>\n",
              "\n",
              "    <script>\n",
              "      const buttonEl =\n",
              "        document.querySelector('#df-b1878ae1-8cc6-40ef-a41c-d9c7ac006c32 button.colab-df-convert');\n",
              "      buttonEl.style.display =\n",
              "        google.colab.kernel.accessAllowed ? 'block' : 'none';\n",
              "\n",
              "      async function convertToInteractive(key) {\n",
              "        const element = document.querySelector('#df-b1878ae1-8cc6-40ef-a41c-d9c7ac006c32');\n",
              "        const dataTable =\n",
              "          await google.colab.kernel.invokeFunction('convertToInteractive',\n",
              "                                                    [key], {});\n",
              "        if (!dataTable) return;\n",
              "\n",
              "        const docLinkHtml = 'Like what you see? Visit the ' +\n",
              "          '<a target=\"_blank\" href=https://colab.research.google.com/notebooks/data_table.ipynb>data table notebook</a>'\n",
              "          + ' to learn more about interactive tables.';\n",
              "        element.innerHTML = '';\n",
              "        dataTable['output_type'] = 'display_data';\n",
              "        await google.colab.output.renderOutput(dataTable, element);\n",
              "        const docLink = document.createElement('div');\n",
              "        docLink.innerHTML = docLinkHtml;\n",
              "        element.appendChild(docLink);\n",
              "      }\n",
              "    </script>\n",
              "  </div>\n",
              "\n",
              "\n",
              "<div id=\"df-bf688a4c-c8c4-4074-a6f8-38ac9a492f24\">\n",
              "  <button class=\"colab-df-quickchart\" onclick=\"quickchart('df-bf688a4c-c8c4-4074-a6f8-38ac9a492f24')\"\n",
              "            title=\"Suggest charts\"\n",
              "            style=\"display:none;\">\n",
              "\n",
              "<svg xmlns=\"http://www.w3.org/2000/svg\" height=\"24px\"viewBox=\"0 0 24 24\"\n",
              "     width=\"24px\">\n",
              "    <g>\n",
              "        <path d=\"M19 3H5c-1.1 0-2 .9-2 2v14c0 1.1.9 2 2 2h14c1.1 0 2-.9 2-2V5c0-1.1-.9-2-2-2zM9 17H7v-7h2v7zm4 0h-2V7h2v10zm4 0h-2v-4h2v4z\"/>\n",
              "    </g>\n",
              "</svg>\n",
              "  </button>\n",
              "\n",
              "<style>\n",
              "  .colab-df-quickchart {\n",
              "      --bg-color: #E8F0FE;\n",
              "      --fill-color: #1967D2;\n",
              "      --hover-bg-color: #E2EBFA;\n",
              "      --hover-fill-color: #174EA6;\n",
              "      --disabled-fill-color: #AAA;\n",
              "      --disabled-bg-color: #DDD;\n",
              "  }\n",
              "\n",
              "  [theme=dark] .colab-df-quickchart {\n",
              "      --bg-color: #3B4455;\n",
              "      --fill-color: #D2E3FC;\n",
              "      --hover-bg-color: #434B5C;\n",
              "      --hover-fill-color: #FFFFFF;\n",
              "      --disabled-bg-color: #3B4455;\n",
              "      --disabled-fill-color: #666;\n",
              "  }\n",
              "\n",
              "  .colab-df-quickchart {\n",
              "    background-color: var(--bg-color);\n",
              "    border: none;\n",
              "    border-radius: 50%;\n",
              "    cursor: pointer;\n",
              "    display: none;\n",
              "    fill: var(--fill-color);\n",
              "    height: 32px;\n",
              "    padding: 0;\n",
              "    width: 32px;\n",
              "  }\n",
              "\n",
              "  .colab-df-quickchart:hover {\n",
              "    background-color: var(--hover-bg-color);\n",
              "    box-shadow: 0 1px 2px rgba(60, 64, 67, 0.3), 0 1px 3px 1px rgba(60, 64, 67, 0.15);\n",
              "    fill: var(--button-hover-fill-color);\n",
              "  }\n",
              "\n",
              "  .colab-df-quickchart-complete:disabled,\n",
              "  .colab-df-quickchart-complete:disabled:hover {\n",
              "    background-color: var(--disabled-bg-color);\n",
              "    fill: var(--disabled-fill-color);\n",
              "    box-shadow: none;\n",
              "  }\n",
              "\n",
              "  .colab-df-spinner {\n",
              "    border: 2px solid var(--fill-color);\n",
              "    border-color: transparent;\n",
              "    border-bottom-color: var(--fill-color);\n",
              "    animation:\n",
              "      spin 1s steps(1) infinite;\n",
              "  }\n",
              "\n",
              "  @keyframes spin {\n",
              "    0% {\n",
              "      border-color: transparent;\n",
              "      border-bottom-color: var(--fill-color);\n",
              "      border-left-color: var(--fill-color);\n",
              "    }\n",
              "    20% {\n",
              "      border-color: transparent;\n",
              "      border-left-color: var(--fill-color);\n",
              "      border-top-color: var(--fill-color);\n",
              "    }\n",
              "    30% {\n",
              "      border-color: transparent;\n",
              "      border-left-color: var(--fill-color);\n",
              "      border-top-color: var(--fill-color);\n",
              "      border-right-color: var(--fill-color);\n",
              "    }\n",
              "    40% {\n",
              "      border-color: transparent;\n",
              "      border-right-color: var(--fill-color);\n",
              "      border-top-color: var(--fill-color);\n",
              "    }\n",
              "    60% {\n",
              "      border-color: transparent;\n",
              "      border-right-color: var(--fill-color);\n",
              "    }\n",
              "    80% {\n",
              "      border-color: transparent;\n",
              "      border-right-color: var(--fill-color);\n",
              "      border-bottom-color: var(--fill-color);\n",
              "    }\n",
              "    90% {\n",
              "      border-color: transparent;\n",
              "      border-bottom-color: var(--fill-color);\n",
              "    }\n",
              "  }\n",
              "</style>\n",
              "\n",
              "  <script>\n",
              "    async function quickchart(key) {\n",
              "      const quickchartButtonEl =\n",
              "        document.querySelector('#' + key + ' button');\n",
              "      quickchartButtonEl.disabled = true;  // To prevent multiple clicks.\n",
              "      quickchartButtonEl.classList.add('colab-df-spinner');\n",
              "      try {\n",
              "        const charts = await google.colab.kernel.invokeFunction(\n",
              "            'suggestCharts', [key], {});\n",
              "      } catch (error) {\n",
              "        console.error('Error during call to suggestCharts:', error);\n",
              "      }\n",
              "      quickchartButtonEl.classList.remove('colab-df-spinner');\n",
              "      quickchartButtonEl.classList.add('colab-df-quickchart-complete');\n",
              "    }\n",
              "    (() => {\n",
              "      let quickchartButtonEl =\n",
              "        document.querySelector('#df-bf688a4c-c8c4-4074-a6f8-38ac9a492f24 button');\n",
              "      quickchartButtonEl.style.display =\n",
              "        google.colab.kernel.accessAllowed ? 'block' : 'none';\n",
              "    })();\n",
              "  </script>\n",
              "</div>\n",
              "\n",
              "    </div>\n",
              "  </div>\n"
            ],
            "application/vnd.google.colaboratory.intrinsic+json": {
              "type": "dataframe",
              "variable_name": "raw_data"
            }
          },
          "metadata": {},
          "execution_count": 8
        }
      ],
      "source": [
        "raw_data.head()"
      ]
    },
    {
      "cell_type": "markdown",
      "source": [
        "### 1.3 Preprocesamiento"
      ],
      "metadata": {
        "id": "P54fEBlaGled"
      }
    },
    {
      "cell_type": "markdown",
      "source": [
        "A continuación, filtraremos las tuplas para eliminar ítems que han sido calificado muy poco o usuarios que no han interactuado mucho con items."
      ],
      "metadata": {
        "id": "DjYnaf3L-NQY"
      }
    },
    {
      "cell_type": "code",
      "execution_count": null,
      "metadata": {
        "id": "u-5CZ1fLrd3S"
      },
      "outputs": [],
      "source": [
        "def get_count(tp: pd.DataFrame, id: str) -> pd.Index:\n",
        "    \"\"\"\n",
        "    Returns `tp` groupby+count by `id`\n",
        "    \"\"\"\n",
        "    playcount_groupbyid = tp[[id]].groupby(id, as_index=False)\n",
        "    count = playcount_groupbyid.size()\n",
        "    return count\n",
        "\n",
        "\n",
        "def filter_triplets(\n",
        "    tp: pd.DataFrame, min_user_click, min_item_click\n",
        ") -> Tuple[pd.DataFrame, pd.Index, pd.Index]:\n",
        "    \"\"\"\n",
        "    Returns triplets (`tp`) of user-item-rating for users/items with\n",
        "    more than min_user_click/min_item_click counts\n",
        "    \"\"\"\n",
        "    if min_item_click > 0:\n",
        "        itemcount = get_count(tp, \"item\")\n",
        "        tp = tp[tp[\"item\"].isin(itemcount.index[itemcount >= min_item_click])]\n",
        "\n",
        "    if min_user_click > 0:\n",
        "        usercount = get_count(tp, \"user\")\n",
        "        tp = tp[tp[\"user\"].isin(usercount.index[(usercount >= min_user_click)['size']])]\n",
        "\n",
        "    usercount, itemcount = get_count(tp, \"user\"), get_count(tp, \"item\")\n",
        "\n",
        "    return tp, usercount, itemcount"
      ]
    },
    {
      "cell_type": "code",
      "execution_count": null,
      "metadata": {
        "id": "4YiLbTuXrd3V"
      },
      "outputs": [],
      "source": [
        "filtered_raw_data, user_activity, item_popularity = filter_triplets(\n",
        "    raw_data, min_user_click=5, min_item_click=0\n",
        ")"
      ]
    },
    {
      "cell_type": "markdown",
      "source": [
        "Podemos ver que se redujo la cantidad de elementos en el *dataset*."
      ],
      "metadata": {
        "id": "P6PVWO8d-u3l"
      }
    },
    {
      "cell_type": "code",
      "execution_count": null,
      "metadata": {
        "id": "AETWA2X_rd3X",
        "outputId": "eadfd207-91d4-468c-a827-8d6d93ff1670",
        "colab": {
          "base_uri": "https://localhost:8080/"
        }
      },
      "outputs": [
        {
          "output_type": "execute_result",
          "data": {
            "text/plain": [
              "(9857803, 4)"
            ]
          },
          "metadata": {},
          "execution_count": 11
        }
      ],
      "source": [
        "filtered_raw_data.shape"
      ]
    },
    {
      "cell_type": "code",
      "execution_count": null,
      "metadata": {
        "id": "lq2FmDDCrd3Z",
        "outputId": "41c49158-50c1-447a-da6a-159ef4b35423",
        "colab": {
          "base_uri": "https://localhost:8080/",
          "height": 206
        }
      },
      "outputs": [
        {
          "output_type": "execute_result",
          "data": {
            "text/plain": [
              "    user  item  rating   timestamp\n",
              "6      1   151     4.0  1094785734\n",
              "7      1   223     4.0  1112485573\n",
              "8      1   253     4.0  1112484940\n",
              "9      1   260     4.0  1112484826\n",
              "10     1   293     4.0  1112484703"
            ],
            "text/html": [
              "\n",
              "  <div id=\"df-8c4b6640-1497-41c7-87ed-01a1b263887a\" class=\"colab-df-container\">\n",
              "    <div>\n",
              "<style scoped>\n",
              "    .dataframe tbody tr th:only-of-type {\n",
              "        vertical-align: middle;\n",
              "    }\n",
              "\n",
              "    .dataframe tbody tr th {\n",
              "        vertical-align: top;\n",
              "    }\n",
              "\n",
              "    .dataframe thead th {\n",
              "        text-align: right;\n",
              "    }\n",
              "</style>\n",
              "<table border=\"1\" class=\"dataframe\">\n",
              "  <thead>\n",
              "    <tr style=\"text-align: right;\">\n",
              "      <th></th>\n",
              "      <th>user</th>\n",
              "      <th>item</th>\n",
              "      <th>rating</th>\n",
              "      <th>timestamp</th>\n",
              "    </tr>\n",
              "  </thead>\n",
              "  <tbody>\n",
              "    <tr>\n",
              "      <th>6</th>\n",
              "      <td>1</td>\n",
              "      <td>151</td>\n",
              "      <td>4.0</td>\n",
              "      <td>1094785734</td>\n",
              "    </tr>\n",
              "    <tr>\n",
              "      <th>7</th>\n",
              "      <td>1</td>\n",
              "      <td>223</td>\n",
              "      <td>4.0</td>\n",
              "      <td>1112485573</td>\n",
              "    </tr>\n",
              "    <tr>\n",
              "      <th>8</th>\n",
              "      <td>1</td>\n",
              "      <td>253</td>\n",
              "      <td>4.0</td>\n",
              "      <td>1112484940</td>\n",
              "    </tr>\n",
              "    <tr>\n",
              "      <th>9</th>\n",
              "      <td>1</td>\n",
              "      <td>260</td>\n",
              "      <td>4.0</td>\n",
              "      <td>1112484826</td>\n",
              "    </tr>\n",
              "    <tr>\n",
              "      <th>10</th>\n",
              "      <td>1</td>\n",
              "      <td>293</td>\n",
              "      <td>4.0</td>\n",
              "      <td>1112484703</td>\n",
              "    </tr>\n",
              "  </tbody>\n",
              "</table>\n",
              "</div>\n",
              "    <div class=\"colab-df-buttons\">\n",
              "\n",
              "  <div class=\"colab-df-container\">\n",
              "    <button class=\"colab-df-convert\" onclick=\"convertToInteractive('df-8c4b6640-1497-41c7-87ed-01a1b263887a')\"\n",
              "            title=\"Convert this dataframe to an interactive table.\"\n",
              "            style=\"display:none;\">\n",
              "\n",
              "  <svg xmlns=\"http://www.w3.org/2000/svg\" height=\"24px\" viewBox=\"0 -960 960 960\">\n",
              "    <path d=\"M120-120v-720h720v720H120Zm60-500h600v-160H180v160Zm220 220h160v-160H400v160Zm0 220h160v-160H400v160ZM180-400h160v-160H180v160Zm440 0h160v-160H620v160ZM180-180h160v-160H180v160Zm440 0h160v-160H620v160Z\"/>\n",
              "  </svg>\n",
              "    </button>\n",
              "\n",
              "  <style>\n",
              "    .colab-df-container {\n",
              "      display:flex;\n",
              "      gap: 12px;\n",
              "    }\n",
              "\n",
              "    .colab-df-convert {\n",
              "      background-color: #E8F0FE;\n",
              "      border: none;\n",
              "      border-radius: 50%;\n",
              "      cursor: pointer;\n",
              "      display: none;\n",
              "      fill: #1967D2;\n",
              "      height: 32px;\n",
              "      padding: 0 0 0 0;\n",
              "      width: 32px;\n",
              "    }\n",
              "\n",
              "    .colab-df-convert:hover {\n",
              "      background-color: #E2EBFA;\n",
              "      box-shadow: 0px 1px 2px rgba(60, 64, 67, 0.3), 0px 1px 3px 1px rgba(60, 64, 67, 0.15);\n",
              "      fill: #174EA6;\n",
              "    }\n",
              "\n",
              "    .colab-df-buttons div {\n",
              "      margin-bottom: 4px;\n",
              "    }\n",
              "\n",
              "    [theme=dark] .colab-df-convert {\n",
              "      background-color: #3B4455;\n",
              "      fill: #D2E3FC;\n",
              "    }\n",
              "\n",
              "    [theme=dark] .colab-df-convert:hover {\n",
              "      background-color: #434B5C;\n",
              "      box-shadow: 0px 1px 3px 1px rgba(0, 0, 0, 0.15);\n",
              "      filter: drop-shadow(0px 1px 2px rgba(0, 0, 0, 0.3));\n",
              "      fill: #FFFFFF;\n",
              "    }\n",
              "  </style>\n",
              "\n",
              "    <script>\n",
              "      const buttonEl =\n",
              "        document.querySelector('#df-8c4b6640-1497-41c7-87ed-01a1b263887a button.colab-df-convert');\n",
              "      buttonEl.style.display =\n",
              "        google.colab.kernel.accessAllowed ? 'block' : 'none';\n",
              "\n",
              "      async function convertToInteractive(key) {\n",
              "        const element = document.querySelector('#df-8c4b6640-1497-41c7-87ed-01a1b263887a');\n",
              "        const dataTable =\n",
              "          await google.colab.kernel.invokeFunction('convertToInteractive',\n",
              "                                                    [key], {});\n",
              "        if (!dataTable) return;\n",
              "\n",
              "        const docLinkHtml = 'Like what you see? Visit the ' +\n",
              "          '<a target=\"_blank\" href=https://colab.research.google.com/notebooks/data_table.ipynb>data table notebook</a>'\n",
              "          + ' to learn more about interactive tables.';\n",
              "        element.innerHTML = '';\n",
              "        dataTable['output_type'] = 'display_data';\n",
              "        await google.colab.output.renderOutput(dataTable, element);\n",
              "        const docLink = document.createElement('div');\n",
              "        docLink.innerHTML = docLinkHtml;\n",
              "        element.appendChild(docLink);\n",
              "      }\n",
              "    </script>\n",
              "  </div>\n",
              "\n",
              "\n",
              "<div id=\"df-6364f143-df75-438a-b28e-6e81d39d3563\">\n",
              "  <button class=\"colab-df-quickchart\" onclick=\"quickchart('df-6364f143-df75-438a-b28e-6e81d39d3563')\"\n",
              "            title=\"Suggest charts\"\n",
              "            style=\"display:none;\">\n",
              "\n",
              "<svg xmlns=\"http://www.w3.org/2000/svg\" height=\"24px\"viewBox=\"0 0 24 24\"\n",
              "     width=\"24px\">\n",
              "    <g>\n",
              "        <path d=\"M19 3H5c-1.1 0-2 .9-2 2v14c0 1.1.9 2 2 2h14c1.1 0 2-.9 2-2V5c0-1.1-.9-2-2-2zM9 17H7v-7h2v7zm4 0h-2V7h2v10zm4 0h-2v-4h2v4z\"/>\n",
              "    </g>\n",
              "</svg>\n",
              "  </button>\n",
              "\n",
              "<style>\n",
              "  .colab-df-quickchart {\n",
              "      --bg-color: #E8F0FE;\n",
              "      --fill-color: #1967D2;\n",
              "      --hover-bg-color: #E2EBFA;\n",
              "      --hover-fill-color: #174EA6;\n",
              "      --disabled-fill-color: #AAA;\n",
              "      --disabled-bg-color: #DDD;\n",
              "  }\n",
              "\n",
              "  [theme=dark] .colab-df-quickchart {\n",
              "      --bg-color: #3B4455;\n",
              "      --fill-color: #D2E3FC;\n",
              "      --hover-bg-color: #434B5C;\n",
              "      --hover-fill-color: #FFFFFF;\n",
              "      --disabled-bg-color: #3B4455;\n",
              "      --disabled-fill-color: #666;\n",
              "  }\n",
              "\n",
              "  .colab-df-quickchart {\n",
              "    background-color: var(--bg-color);\n",
              "    border: none;\n",
              "    border-radius: 50%;\n",
              "    cursor: pointer;\n",
              "    display: none;\n",
              "    fill: var(--fill-color);\n",
              "    height: 32px;\n",
              "    padding: 0;\n",
              "    width: 32px;\n",
              "  }\n",
              "\n",
              "  .colab-df-quickchart:hover {\n",
              "    background-color: var(--hover-bg-color);\n",
              "    box-shadow: 0 1px 2px rgba(60, 64, 67, 0.3), 0 1px 3px 1px rgba(60, 64, 67, 0.15);\n",
              "    fill: var(--button-hover-fill-color);\n",
              "  }\n",
              "\n",
              "  .colab-df-quickchart-complete:disabled,\n",
              "  .colab-df-quickchart-complete:disabled:hover {\n",
              "    background-color: var(--disabled-bg-color);\n",
              "    fill: var(--disabled-fill-color);\n",
              "    box-shadow: none;\n",
              "  }\n",
              "\n",
              "  .colab-df-spinner {\n",
              "    border: 2px solid var(--fill-color);\n",
              "    border-color: transparent;\n",
              "    border-bottom-color: var(--fill-color);\n",
              "    animation:\n",
              "      spin 1s steps(1) infinite;\n",
              "  }\n",
              "\n",
              "  @keyframes spin {\n",
              "    0% {\n",
              "      border-color: transparent;\n",
              "      border-bottom-color: var(--fill-color);\n",
              "      border-left-color: var(--fill-color);\n",
              "    }\n",
              "    20% {\n",
              "      border-color: transparent;\n",
              "      border-left-color: var(--fill-color);\n",
              "      border-top-color: var(--fill-color);\n",
              "    }\n",
              "    30% {\n",
              "      border-color: transparent;\n",
              "      border-left-color: var(--fill-color);\n",
              "      border-top-color: var(--fill-color);\n",
              "      border-right-color: var(--fill-color);\n",
              "    }\n",
              "    40% {\n",
              "      border-color: transparent;\n",
              "      border-right-color: var(--fill-color);\n",
              "      border-top-color: var(--fill-color);\n",
              "    }\n",
              "    60% {\n",
              "      border-color: transparent;\n",
              "      border-right-color: var(--fill-color);\n",
              "    }\n",
              "    80% {\n",
              "      border-color: transparent;\n",
              "      border-right-color: var(--fill-color);\n",
              "      border-bottom-color: var(--fill-color);\n",
              "    }\n",
              "    90% {\n",
              "      border-color: transparent;\n",
              "      border-bottom-color: var(--fill-color);\n",
              "    }\n",
              "  }\n",
              "</style>\n",
              "\n",
              "  <script>\n",
              "    async function quickchart(key) {\n",
              "      const quickchartButtonEl =\n",
              "        document.querySelector('#' + key + ' button');\n",
              "      quickchartButtonEl.disabled = true;  // To prevent multiple clicks.\n",
              "      quickchartButtonEl.classList.add('colab-df-spinner');\n",
              "      try {\n",
              "        const charts = await google.colab.kernel.invokeFunction(\n",
              "            'suggestCharts', [key], {});\n",
              "      } catch (error) {\n",
              "        console.error('Error during call to suggestCharts:', error);\n",
              "      }\n",
              "      quickchartButtonEl.classList.remove('colab-df-spinner');\n",
              "      quickchartButtonEl.classList.add('colab-df-quickchart-complete');\n",
              "    }\n",
              "    (() => {\n",
              "      let quickchartButtonEl =\n",
              "        document.querySelector('#df-6364f143-df75-438a-b28e-6e81d39d3563 button');\n",
              "      quickchartButtonEl.style.display =\n",
              "        google.colab.kernel.accessAllowed ? 'block' : 'none';\n",
              "    })();\n",
              "  </script>\n",
              "</div>\n",
              "\n",
              "    </div>\n",
              "  </div>\n"
            ],
            "application/vnd.google.colaboratory.intrinsic+json": {
              "type": "dataframe",
              "variable_name": "filtered_raw_data"
            }
          },
          "metadata": {},
          "execution_count": 12
        }
      ],
      "source": [
        "filtered_raw_data.head()"
      ]
    },
    {
      "cell_type": "markdown",
      "source": [
        "La función anterior también entrega la información de qué tanto ha interactuado un usuario con items y qué tanto un item ha sido calificado."
      ],
      "metadata": {
        "id": "aGjHLNqT-6hg"
      }
    },
    {
      "cell_type": "code",
      "execution_count": null,
      "metadata": {
        "id": "x1Qk5Vyhrd3c",
        "outputId": "455b1b9a-b622-4e9f-dff3-b5c519547cd7",
        "colab": {
          "base_uri": "https://localhost:8080/",
          "height": 206
        }
      },
      "outputs": [
        {
          "output_type": "execute_result",
          "data": {
            "text/plain": [
              "   user  size\n",
              "0     1    88\n",
              "1     2    43\n",
              "2     3   145\n",
              "3     4    16\n",
              "4     5    50"
            ],
            "text/html": [
              "\n",
              "  <div id=\"df-02163577-8faf-4977-832e-5c097c4a8120\" class=\"colab-df-container\">\n",
              "    <div>\n",
              "<style scoped>\n",
              "    .dataframe tbody tr th:only-of-type {\n",
              "        vertical-align: middle;\n",
              "    }\n",
              "\n",
              "    .dataframe tbody tr th {\n",
              "        vertical-align: top;\n",
              "    }\n",
              "\n",
              "    .dataframe thead th {\n",
              "        text-align: right;\n",
              "    }\n",
              "</style>\n",
              "<table border=\"1\" class=\"dataframe\">\n",
              "  <thead>\n",
              "    <tr style=\"text-align: right;\">\n",
              "      <th></th>\n",
              "      <th>user</th>\n",
              "      <th>size</th>\n",
              "    </tr>\n",
              "  </thead>\n",
              "  <tbody>\n",
              "    <tr>\n",
              "      <th>0</th>\n",
              "      <td>1</td>\n",
              "      <td>88</td>\n",
              "    </tr>\n",
              "    <tr>\n",
              "      <th>1</th>\n",
              "      <td>2</td>\n",
              "      <td>43</td>\n",
              "    </tr>\n",
              "    <tr>\n",
              "      <th>2</th>\n",
              "      <td>3</td>\n",
              "      <td>145</td>\n",
              "    </tr>\n",
              "    <tr>\n",
              "      <th>3</th>\n",
              "      <td>4</td>\n",
              "      <td>16</td>\n",
              "    </tr>\n",
              "    <tr>\n",
              "      <th>4</th>\n",
              "      <td>5</td>\n",
              "      <td>50</td>\n",
              "    </tr>\n",
              "  </tbody>\n",
              "</table>\n",
              "</div>\n",
              "    <div class=\"colab-df-buttons\">\n",
              "\n",
              "  <div class=\"colab-df-container\">\n",
              "    <button class=\"colab-df-convert\" onclick=\"convertToInteractive('df-02163577-8faf-4977-832e-5c097c4a8120')\"\n",
              "            title=\"Convert this dataframe to an interactive table.\"\n",
              "            style=\"display:none;\">\n",
              "\n",
              "  <svg xmlns=\"http://www.w3.org/2000/svg\" height=\"24px\" viewBox=\"0 -960 960 960\">\n",
              "    <path d=\"M120-120v-720h720v720H120Zm60-500h600v-160H180v160Zm220 220h160v-160H400v160Zm0 220h160v-160H400v160ZM180-400h160v-160H180v160Zm440 0h160v-160H620v160ZM180-180h160v-160H180v160Zm440 0h160v-160H620v160Z\"/>\n",
              "  </svg>\n",
              "    </button>\n",
              "\n",
              "  <style>\n",
              "    .colab-df-container {\n",
              "      display:flex;\n",
              "      gap: 12px;\n",
              "    }\n",
              "\n",
              "    .colab-df-convert {\n",
              "      background-color: #E8F0FE;\n",
              "      border: none;\n",
              "      border-radius: 50%;\n",
              "      cursor: pointer;\n",
              "      display: none;\n",
              "      fill: #1967D2;\n",
              "      height: 32px;\n",
              "      padding: 0 0 0 0;\n",
              "      width: 32px;\n",
              "    }\n",
              "\n",
              "    .colab-df-convert:hover {\n",
              "      background-color: #E2EBFA;\n",
              "      box-shadow: 0px 1px 2px rgba(60, 64, 67, 0.3), 0px 1px 3px 1px rgba(60, 64, 67, 0.15);\n",
              "      fill: #174EA6;\n",
              "    }\n",
              "\n",
              "    .colab-df-buttons div {\n",
              "      margin-bottom: 4px;\n",
              "    }\n",
              "\n",
              "    [theme=dark] .colab-df-convert {\n",
              "      background-color: #3B4455;\n",
              "      fill: #D2E3FC;\n",
              "    }\n",
              "\n",
              "    [theme=dark] .colab-df-convert:hover {\n",
              "      background-color: #434B5C;\n",
              "      box-shadow: 0px 1px 3px 1px rgba(0, 0, 0, 0.15);\n",
              "      filter: drop-shadow(0px 1px 2px rgba(0, 0, 0, 0.3));\n",
              "      fill: #FFFFFF;\n",
              "    }\n",
              "  </style>\n",
              "\n",
              "    <script>\n",
              "      const buttonEl =\n",
              "        document.querySelector('#df-02163577-8faf-4977-832e-5c097c4a8120 button.colab-df-convert');\n",
              "      buttonEl.style.display =\n",
              "        google.colab.kernel.accessAllowed ? 'block' : 'none';\n",
              "\n",
              "      async function convertToInteractive(key) {\n",
              "        const element = document.querySelector('#df-02163577-8faf-4977-832e-5c097c4a8120');\n",
              "        const dataTable =\n",
              "          await google.colab.kernel.invokeFunction('convertToInteractive',\n",
              "                                                    [key], {});\n",
              "        if (!dataTable) return;\n",
              "\n",
              "        const docLinkHtml = 'Like what you see? Visit the ' +\n",
              "          '<a target=\"_blank\" href=https://colab.research.google.com/notebooks/data_table.ipynb>data table notebook</a>'\n",
              "          + ' to learn more about interactive tables.';\n",
              "        element.innerHTML = '';\n",
              "        dataTable['output_type'] = 'display_data';\n",
              "        await google.colab.output.renderOutput(dataTable, element);\n",
              "        const docLink = document.createElement('div');\n",
              "        docLink.innerHTML = docLinkHtml;\n",
              "        element.appendChild(docLink);\n",
              "      }\n",
              "    </script>\n",
              "  </div>\n",
              "\n",
              "\n",
              "<div id=\"df-117ed44b-e6a8-4194-894a-704c348f4bef\">\n",
              "  <button class=\"colab-df-quickchart\" onclick=\"quickchart('df-117ed44b-e6a8-4194-894a-704c348f4bef')\"\n",
              "            title=\"Suggest charts\"\n",
              "            style=\"display:none;\">\n",
              "\n",
              "<svg xmlns=\"http://www.w3.org/2000/svg\" height=\"24px\"viewBox=\"0 0 24 24\"\n",
              "     width=\"24px\">\n",
              "    <g>\n",
              "        <path d=\"M19 3H5c-1.1 0-2 .9-2 2v14c0 1.1.9 2 2 2h14c1.1 0 2-.9 2-2V5c0-1.1-.9-2-2-2zM9 17H7v-7h2v7zm4 0h-2V7h2v10zm4 0h-2v-4h2v4z\"/>\n",
              "    </g>\n",
              "</svg>\n",
              "  </button>\n",
              "\n",
              "<style>\n",
              "  .colab-df-quickchart {\n",
              "      --bg-color: #E8F0FE;\n",
              "      --fill-color: #1967D2;\n",
              "      --hover-bg-color: #E2EBFA;\n",
              "      --hover-fill-color: #174EA6;\n",
              "      --disabled-fill-color: #AAA;\n",
              "      --disabled-bg-color: #DDD;\n",
              "  }\n",
              "\n",
              "  [theme=dark] .colab-df-quickchart {\n",
              "      --bg-color: #3B4455;\n",
              "      --fill-color: #D2E3FC;\n",
              "      --hover-bg-color: #434B5C;\n",
              "      --hover-fill-color: #FFFFFF;\n",
              "      --disabled-bg-color: #3B4455;\n",
              "      --disabled-fill-color: #666;\n",
              "  }\n",
              "\n",
              "  .colab-df-quickchart {\n",
              "    background-color: var(--bg-color);\n",
              "    border: none;\n",
              "    border-radius: 50%;\n",
              "    cursor: pointer;\n",
              "    display: none;\n",
              "    fill: var(--fill-color);\n",
              "    height: 32px;\n",
              "    padding: 0;\n",
              "    width: 32px;\n",
              "  }\n",
              "\n",
              "  .colab-df-quickchart:hover {\n",
              "    background-color: var(--hover-bg-color);\n",
              "    box-shadow: 0 1px 2px rgba(60, 64, 67, 0.3), 0 1px 3px 1px rgba(60, 64, 67, 0.15);\n",
              "    fill: var(--button-hover-fill-color);\n",
              "  }\n",
              "\n",
              "  .colab-df-quickchart-complete:disabled,\n",
              "  .colab-df-quickchart-complete:disabled:hover {\n",
              "    background-color: var(--disabled-bg-color);\n",
              "    fill: var(--disabled-fill-color);\n",
              "    box-shadow: none;\n",
              "  }\n",
              "\n",
              "  .colab-df-spinner {\n",
              "    border: 2px solid var(--fill-color);\n",
              "    border-color: transparent;\n",
              "    border-bottom-color: var(--fill-color);\n",
              "    animation:\n",
              "      spin 1s steps(1) infinite;\n",
              "  }\n",
              "\n",
              "  @keyframes spin {\n",
              "    0% {\n",
              "      border-color: transparent;\n",
              "      border-bottom-color: var(--fill-color);\n",
              "      border-left-color: var(--fill-color);\n",
              "    }\n",
              "    20% {\n",
              "      border-color: transparent;\n",
              "      border-left-color: var(--fill-color);\n",
              "      border-top-color: var(--fill-color);\n",
              "    }\n",
              "    30% {\n",
              "      border-color: transparent;\n",
              "      border-left-color: var(--fill-color);\n",
              "      border-top-color: var(--fill-color);\n",
              "      border-right-color: var(--fill-color);\n",
              "    }\n",
              "    40% {\n",
              "      border-color: transparent;\n",
              "      border-right-color: var(--fill-color);\n",
              "      border-top-color: var(--fill-color);\n",
              "    }\n",
              "    60% {\n",
              "      border-color: transparent;\n",
              "      border-right-color: var(--fill-color);\n",
              "    }\n",
              "    80% {\n",
              "      border-color: transparent;\n",
              "      border-right-color: var(--fill-color);\n",
              "      border-bottom-color: var(--fill-color);\n",
              "    }\n",
              "    90% {\n",
              "      border-color: transparent;\n",
              "      border-bottom-color: var(--fill-color);\n",
              "    }\n",
              "  }\n",
              "</style>\n",
              "\n",
              "  <script>\n",
              "    async function quickchart(key) {\n",
              "      const quickchartButtonEl =\n",
              "        document.querySelector('#' + key + ' button');\n",
              "      quickchartButtonEl.disabled = true;  // To prevent multiple clicks.\n",
              "      quickchartButtonEl.classList.add('colab-df-spinner');\n",
              "      try {\n",
              "        const charts = await google.colab.kernel.invokeFunction(\n",
              "            'suggestCharts', [key], {});\n",
              "      } catch (error) {\n",
              "        console.error('Error during call to suggestCharts:', error);\n",
              "      }\n",
              "      quickchartButtonEl.classList.remove('colab-df-spinner');\n",
              "      quickchartButtonEl.classList.add('colab-df-quickchart-complete');\n",
              "    }\n",
              "    (() => {\n",
              "      let quickchartButtonEl =\n",
              "        document.querySelector('#df-117ed44b-e6a8-4194-894a-704c348f4bef button');\n",
              "      quickchartButtonEl.style.display =\n",
              "        google.colab.kernel.accessAllowed ? 'block' : 'none';\n",
              "    })();\n",
              "  </script>\n",
              "</div>\n",
              "\n",
              "    </div>\n",
              "  </div>\n"
            ],
            "application/vnd.google.colaboratory.intrinsic+json": {
              "type": "dataframe",
              "variable_name": "user_activity"
            }
          },
          "metadata": {},
          "execution_count": 13
        }
      ],
      "source": [
        "user_activity.head(5)"
      ]
    },
    {
      "cell_type": "markdown",
      "source": [
        "Ahora, echaremos un vistazo a la densidad del *dataset*."
      ],
      "metadata": {
        "id": "3OjAKLZ0_Ekf"
      }
    },
    {
      "cell_type": "code",
      "execution_count": null,
      "metadata": {
        "id": "QEu331_jrd3e",
        "outputId": "19df2ca7-3206-435d-f749-2305b79bbdb0",
        "colab": {
          "base_uri": "https://localhost:8080/"
        }
      },
      "outputs": [
        {
          "output_type": "stream",
          "name": "stdout",
          "text": [
            "After filtering, there are 9857803 watching events from 136477 users and 20649 movies (sparsity: 0.350%)\n"
          ]
        }
      ],
      "source": [
        "sparsity = (\n",
        "    1.0\n",
        "    * filtered_raw_data.shape[0]\n",
        "    / (user_activity.shape[0] * item_popularity.shape[0])\n",
        ")\n",
        "\n",
        "print(\n",
        "    \"After filtering, there are %d watching events from %d users and %d movies (sparsity: %.3f%%)\"\n",
        "    % (\n",
        "        filtered_raw_data.shape[0],\n",
        "        user_activity.shape[0],\n",
        "        item_popularity.shape[0],\n",
        "        sparsity * 100,\n",
        "    )\n",
        ")\n"
      ]
    },
    {
      "cell_type": "markdown",
      "source": [
        "A continuación se separan los datos en conjuntos de entrenamiento, validación y testeo."
      ],
      "metadata": {
        "id": "k2gwmTHU_SBx"
      }
    },
    {
      "cell_type": "code",
      "execution_count": null,
      "metadata": {
        "id": "6IyRONktrd3j"
      },
      "outputs": [],
      "source": [
        "def split_users(\n",
        "    unique_uid: pd.Index, test_users_size: Union[float, int]\n",
        ") -> Tuple[pd.Index, pd.Index, pd.Index]:\n",
        "\n",
        "    n_users = unique_uid.size\n",
        "\n",
        "    if isinstance(test_users_size, int):\n",
        "        n_heldout_users = test_users_size\n",
        "    else:\n",
        "        n_heldout_users = int(test_users_size * n_users)\n",
        "\n",
        "    tr_users = unique_uid[: (n_users - n_heldout_users * 2)]\n",
        "    vd_users = unique_uid[(n_users - n_heldout_users * 2) : (n_users - n_heldout_users)]\n",
        "    te_users = unique_uid[(n_users - n_heldout_users) :]\n",
        "\n",
        "    return tr_users, vd_users, te_users"
      ]
    },
    {
      "cell_type": "code",
      "execution_count": null,
      "metadata": {
        "id": "IGpZlST7rd3m"
      },
      "outputs": [],
      "source": [
        "unique_uid = user_activity.index\n",
        "np.random.seed(98765)\n",
        "idx_perm = np.random.permutation(unique_uid.size)\n",
        "unique_uid = unique_uid[idx_perm]\n",
        "tr_users, vd_users, te_users = split_users(\n",
        "    unique_uid, test_users_size=0.1\n",
        ")"
      ]
    },
    {
      "cell_type": "code",
      "execution_count": null,
      "metadata": {
        "id": "8QNu7wcWrd3p",
        "outputId": "b916e106-9b9c-4a21-e3c7-502a631285bc",
        "colab": {
          "base_uri": "https://localhost:8080/"
        }
      },
      "outputs": [
        {
          "output_type": "stream",
          "name": "stdout",
          "text": [
            "(109183,) (13647,) (13647,)\n"
          ]
        }
      ],
      "source": [
        "print(tr_users.shape, vd_users.shape, te_users.shape)"
      ]
    },
    {
      "cell_type": "code",
      "execution_count": null,
      "metadata": {
        "id": "0D-y4NQtrd3q",
        "outputId": "0ddb4a87-976f-41c4-a757-863372825477",
        "colab": {
          "base_uri": "https://localhost:8080/"
        }
      },
      "outputs": [
        {
          "output_type": "execute_result",
          "data": {
            "text/plain": [
              "Index([120205, 113015, 114527, 109935, 88000, 70608, 55790, 48816, 22507,\n",
              "       75386],\n",
              "      dtype='int64')"
            ]
          },
          "metadata": {},
          "execution_count": 18
        }
      ],
      "source": [
        "tr_users[:10]"
      ]
    },
    {
      "cell_type": "markdown",
      "source": [
        "Con este código, se filtran las observaciones de los conjuntos en base a si los ítems se encuentran en el set de entrenamiento."
      ],
      "metadata": {
        "id": "I4VzrGLv_pNx"
      }
    },
    {
      "cell_type": "code",
      "execution_count": null,
      "metadata": {
        "id": "jdVPt0Card3r"
      },
      "outputs": [],
      "source": [
        "# Seleccionamos las observaciones del set de entrenamiento\n",
        "tr_obsrv = filtered_raw_data.loc[filtered_raw_data[\"user\"].isin(tr_users)]\n",
        "tr_items = pd.unique(tr_obsrv[\"item\"])\n",
        "\n",
        "# Guardamos los índices por temas de formato posterior\n",
        "item2id = dict((sid, i) for (i, sid) in enumerate(tr_items))\n",
        "user2id = dict((pid, i) for (i, pid) in enumerate(unique_uid))"
      ]
    },
    {
      "cell_type": "code",
      "execution_count": null,
      "metadata": {
        "id": "b-TgCiT7rd3t"
      },
      "outputs": [],
      "source": [
        "vd_obsrv = filtered_raw_data[\n",
        "    filtered_raw_data[\"user\"].isin(vd_users)\n",
        "    & filtered_raw_data[\"item\"].isin(tr_items)\n",
        "]\n",
        "\n",
        "te_obsrv = filtered_raw_data[\n",
        "    filtered_raw_data[\"user\"].isin(te_users)\n",
        "    & filtered_raw_data[\"item\"].isin(tr_items)\n",
        "]"
      ]
    },
    {
      "cell_type": "markdown",
      "source": [
        "A continuación, se separan los conjuntos de validación y testeo en subconjuntos de entrenamiento y testeo dentro de cada uno los conjuntos anteriores. Los conjuntos resultantes serán validación-entrenamiento, validación-testeo, testeo-entrenamiento y testeo-testeo.\n",
        "\n",
        "La idea detrás de esto es que en las etapas de validación y testeo, el modelo debe codificar y decodificar los datos (subconjuntos de entrenamiento). Luego, en las respectivas etapas, el modelo deberá computar las métricas en base a datos no vistos para codificar y decodificar (subconjuntos de testeo)."
      ],
      "metadata": {
        "id": "ZCP92xfEAXgC"
      }
    },
    {
      "cell_type": "markdown",
      "source": [
        "Los conjuntos de validación-entrenamiento, validación-testeo, etc... se construyen a partir de las siguientes funciones."
      ],
      "metadata": {
        "id": "IY90Ch_EB7VM"
      }
    },
    {
      "cell_type": "code",
      "execution_count": null,
      "metadata": {
        "id": "VTog4_Q7rd4A"
      },
      "outputs": [],
      "source": [
        "def split_train_test(\n",
        "    data: pd.DataFrame, test_size: float\n",
        ") -> Tuple[pd.DataFrame, pd.DataFrame]:\n",
        "\n",
        "    data_grouped_by_user = data.groupby(\"user\")\n",
        "    tr_list, te_list = list(), list()\n",
        "\n",
        "    np.random.seed(98765)\n",
        "\n",
        "    for i, (nm, group) in enumerate(data_grouped_by_user):\n",
        "        n_items_u = len(group)\n",
        "\n",
        "        if n_items_u >= 5:\n",
        "            idx = np.zeros(n_items_u, dtype=\"bool\")\n",
        "            idx[\n",
        "                np.random.choice(\n",
        "                    n_items_u, size=int(test_size * n_items_u), replace=False\n",
        "                ).astype(\"int64\")\n",
        "            ] = True\n",
        "\n",
        "            tr_list.append(group[np.logical_not(idx)])\n",
        "            te_list.append(group[idx])\n",
        "        else:\n",
        "            tr_list.append(group)\n",
        "\n",
        "        if i % 1000 == 0:\n",
        "            print(\"%d users sampled\" % i)\n",
        "            sys.stdout.flush()\n",
        "\n",
        "    data_tr = pd.concat(tr_list)\n",
        "    data_te = pd.concat(te_list)\n",
        "\n",
        "    return data_tr, data_te\n",
        "\n",
        "\n",
        "def numerize(tp: pd.DataFrame, user2id: Dict, item2id: Dict) -> pd.DataFrame:\n",
        "    user = [user2id[x] for x in tp[\"user\"]]\n",
        "    item = [item2id[x] for x in tp[\"item\"]]\n",
        "    return pd.DataFrame(data={\"user\": user, \"item\": item}, columns=[\"user\", \"item\"])"
      ]
    },
    {
      "cell_type": "code",
      "execution_count": null,
      "metadata": {
        "id": "WsO9irUord4B",
        "outputId": "18ae828a-d60d-4416-c3ab-3217cab5fc81",
        "colab": {
          "base_uri": "https://localhost:8080/"
        }
      },
      "outputs": [
        {
          "output_type": "stream",
          "name": "stdout",
          "text": [
            "0 users sampled\n",
            "1000 users sampled\n",
            "2000 users sampled\n",
            "3000 users sampled\n",
            "4000 users sampled\n",
            "5000 users sampled\n",
            "6000 users sampled\n",
            "7000 users sampled\n",
            "8000 users sampled\n",
            "9000 users sampled\n",
            "10000 users sampled\n",
            "11000 users sampled\n",
            "12000 users sampled\n",
            "13000 users sampled\n",
            "0 users sampled\n",
            "1000 users sampled\n",
            "2000 users sampled\n",
            "3000 users sampled\n",
            "4000 users sampled\n",
            "5000 users sampled\n",
            "6000 users sampled\n",
            "7000 users sampled\n",
            "8000 users sampled\n",
            "9000 users sampled\n",
            "10000 users sampled\n",
            "11000 users sampled\n",
            "12000 users sampled\n",
            "13000 users sampled\n"
          ]
        }
      ],
      "source": [
        "vd_items_tr, vd_items_te = split_train_test(vd_obsrv, test_size=0.2)\n",
        "te_items_tr, te_items_te = split_train_test(te_obsrv, test_size=0.2)"
      ]
    },
    {
      "cell_type": "markdown",
      "source": [
        "Una vez separados los 5 conjuntos, guardamos toda la información para ser usada luego por el modelo."
      ],
      "metadata": {
        "id": "bG1EUZ1pCPVe"
      }
    },
    {
      "cell_type": "code",
      "source": [
        "np.save(data_path / 'tr_items.npy', tr_items)"
      ],
      "metadata": {
        "id": "XsC7_BWBf_IP"
      },
      "execution_count": null,
      "outputs": []
    },
    {
      "cell_type": "code",
      "source": [
        "tr_data = numerize(tr_obsrv, user2id, item2id)\n",
        "tr_data.to_csv(data_path / 'train.csv', index=False)"
      ],
      "metadata": {
        "id": "5S_ZfxAGlhrK"
      },
      "execution_count": null,
      "outputs": []
    },
    {
      "cell_type": "code",
      "source": [
        "vd_data_tr = numerize(vd_items_tr, user2id, item2id)\n",
        "vd_data_tr.to_csv(data_path / 'validation_tr.csv', index=False)"
      ],
      "metadata": {
        "id": "o8hNl5JYmfIH"
      },
      "execution_count": null,
      "outputs": []
    },
    {
      "cell_type": "code",
      "source": [
        "vd_data_te = numerize(vd_items_te, user2id, item2id)\n",
        "vd_data_te.to_csv(data_path / 'validation_te.csv', index=False)"
      ],
      "metadata": {
        "id": "Ps4P-VXom1hW"
      },
      "execution_count": null,
      "outputs": []
    },
    {
      "cell_type": "code",
      "source": [
        "te_data_tr = numerize(te_items_tr, user2id, item2id)\n",
        "te_data_tr.to_csv(data_path / 'test_tr.csv', index=False)"
      ],
      "metadata": {
        "id": "bLF9AanQm61L"
      },
      "execution_count": null,
      "outputs": []
    },
    {
      "cell_type": "code",
      "source": [
        "te_data_te = numerize(te_items_te, user2id, item2id)\n",
        "te_data_te.to_csv(data_path / 'test_te.csv', index=False)"
      ],
      "metadata": {
        "id": "EFhldQapnL3_"
      },
      "execution_count": null,
      "outputs": []
    },
    {
      "cell_type": "markdown",
      "metadata": {
        "id": "A6i77TcHWqHM"
      },
      "source": [
        "## 2. El Modelo"
      ]
    },
    {
      "cell_type": "markdown",
      "metadata": {
        "id": "n0iNRAVvWqHa"
      },
      "source": [
        "A continuación se define una clase para el codificador, una para el decodificador y finalmente una para el modelo MultiVAE"
      ]
    },
    {
      "cell_type": "code",
      "source": [
        "from typing import List\n",
        "\n",
        "import torch\n",
        "import torch.nn.functional as F\n",
        "from torch import nn\n",
        "\n",
        "\n",
        "class VAEEncoder(nn.Module):\n",
        "    def __init__(self, q_dims: List[int], dropout: List[float]):\n",
        "        super().__init__()\n",
        "\n",
        "        self.q_dims = q_dims\n",
        "        q_dims_ = self.q_dims[:-1] + [self.q_dims[-1] * 2]\n",
        "        self.q_layers = nn.Sequential()\n",
        "        for i, (p, inp, out) in enumerate(zip(dropout, q_dims_[:-1], q_dims_[1:])):\n",
        "            self.q_layers.add_module(\"_\".join([\"dropout\", str(i)]), nn.Dropout(p))\n",
        "            self.q_layers.add_module(\"_\".join([\"linear\", str(i)]), nn.Linear(inp, out))\n",
        "\n",
        "    def forward(self, X):\n",
        "        h = F.normalize(X, p=2, dim=1)\n",
        "        for i, layer in enumerate(self.q_layers):\n",
        "            h = layer(h)\n",
        "            if i != len(self.q_layers) - 1:\n",
        "                h = torch.tanh(h)\n",
        "            else:\n",
        "                mu, logvar = torch.split(h, self.q_dims[-1], dim=1)\n",
        "        return mu, logvar"
      ],
      "metadata": {
        "id": "4YYzPIoXYir9"
      },
      "execution_count": null,
      "outputs": []
    },
    {
      "cell_type": "code",
      "source": [
        "class Decoder(nn.Module):\n",
        "    def __init__(self, p_dims: List[int], dropout: List[float]):\n",
        "        super().__init__()\n",
        "\n",
        "        self.p_layers = nn.Sequential()\n",
        "        for i, (p, inp, out) in enumerate(zip(dropout, p_dims[:-1], p_dims[1:])):\n",
        "            self.p_layers.add_module(\"_\".join([\"dropout\", str(i)]), nn.Dropout(p))\n",
        "            self.p_layers.add_module(\"_\".join([\"linear\", str(i)]), nn.Linear(inp, out))\n",
        "\n",
        "    def forward(self, X):\n",
        "        h = X\n",
        "        for i, layer in enumerate(self.p_layers):\n",
        "            h = layer(h)\n",
        "            if i != len(self.p_layers) - 1:\n",
        "                h = torch.tanh(h)\n",
        "        return h"
      ],
      "metadata": {
        "id": "bvbh7azyZKLZ"
      },
      "execution_count": null,
      "outputs": []
    },
    {
      "cell_type": "code",
      "source": [
        "class MultiVAE(nn.Module):\n",
        "    def __init__(\n",
        "        self,\n",
        "        p_dims: List[int],\n",
        "        q_dims: List[int],\n",
        "        dropout_enc: List[float],\n",
        "        dropout_dec: List[float],\n",
        "    ):\n",
        "        super().__init__()\n",
        "\n",
        "        self.encode = VAEEncoder(q_dims, dropout_enc)\n",
        "        self.decode = Decoder(p_dims, dropout_dec)\n",
        "\n",
        "    def forward(self, X):\n",
        "        mu, logvar = self.encode(X)\n",
        "        std = torch.exp(0.5 * logvar)\n",
        "        eps = torch.randn_like(std)\n",
        "        sampled_z = mu + float(self.training) * eps * std\n",
        "        return self.decode(sampled_z), mu, logvar"
      ],
      "metadata": {
        "id": "bCruJaCUZKvy"
      },
      "execution_count": null,
      "outputs": []
    },
    {
      "cell_type": "markdown",
      "metadata": {
        "id": "qLhqMbizWqHi"
      },
      "source": [
        "Luego, se definen algunos hiperparámetros para instanciar el modelo"
      ]
    },
    {
      "cell_type": "code",
      "source": [
        "I = 50000\n",
        "q_dims = [I] + [600, 200]\n",
        "p_dims = [200, 600] + [I]\n",
        "dropout_enc = [0.5, 0.]\n",
        "dropout_dec = [0., 0.]"
      ],
      "metadata": {
        "id": "lSoEGMn9aQM4"
      },
      "execution_count": null,
      "outputs": []
    },
    {
      "cell_type": "code",
      "source": [
        "vae_model = MultiVAE(\n",
        "    p_dims=p_dims,\n",
        "    q_dims=q_dims,\n",
        "    dropout_enc=dropout_enc,\n",
        "    dropout_dec=dropout_dec,\n",
        ")"
      ],
      "metadata": {
        "id": "jR0TktTvairb"
      },
      "execution_count": null,
      "outputs": []
    },
    {
      "cell_type": "code",
      "source": [
        "vae_model"
      ],
      "metadata": {
        "colab": {
          "base_uri": "https://localhost:8080/"
        },
        "id": "5Z2GeLQwajJS",
        "outputId": "b67ca31f-2192-4737-cb5a-3a9bfad0c7b6"
      },
      "execution_count": null,
      "outputs": [
        {
          "output_type": "execute_result",
          "data": {
            "text/plain": [
              "MultiVAE(\n",
              "  (encode): VAEEncoder(\n",
              "    (q_layers): Sequential(\n",
              "      (dropout_0): Dropout(p=0.5, inplace=False)\n",
              "      (linear_0): Linear(in_features=50000, out_features=600, bias=True)\n",
              "      (dropout_1): Dropout(p=0.0, inplace=False)\n",
              "      (linear_1): Linear(in_features=600, out_features=400, bias=True)\n",
              "    )\n",
              "  )\n",
              "  (decode): Decoder(\n",
              "    (p_layers): Sequential(\n",
              "      (dropout_0): Dropout(p=0.0, inplace=False)\n",
              "      (linear_0): Linear(in_features=200, out_features=600, bias=True)\n",
              "      (dropout_1): Dropout(p=0.0, inplace=False)\n",
              "      (linear_1): Linear(in_features=600, out_features=50000, bias=True)\n",
              "    )\n",
              "  )\n",
              ")"
            ]
          },
          "metadata": {},
          "execution_count": 34
        }
      ]
    },
    {
      "cell_type": "markdown",
      "metadata": {
        "id": "stbPVTLxbEDG"
      },
      "source": [
        "## 3. Entrenamiento"
      ]
    },
    {
      "cell_type": "markdown",
      "source": [
        "Para cargar los datos correctamente para el entrenamiento, definimos la clase `DataLoader` que se encarga de que esto se lleve a cabo de manera correcta. El formato en que guardamos los archivos con los distintos conjuntos de datos se basa en la implementación de esta clase."
      ],
      "metadata": {
        "id": "KjdZKrEHIEBC"
      }
    },
    {
      "cell_type": "code",
      "source": [
        "import pathlib\n",
        "\n",
        "from scipy import sparse\n",
        "from scipy.sparse import csr_matrix\n",
        "\n",
        "\n",
        "class DataLoader(object):\n",
        "    def __init__(self, path: pathlib.PosixPath):\n",
        "        super(DataLoader, self).__init__()\n",
        "\n",
        "        self.path = path\n",
        "        self.n_items = self._n_items()\n",
        "\n",
        "    def _n_items(self):\n",
        "        tr_items = np.load(self.path / \"tr_items.npy\", allow_pickle=True)\n",
        "        return len(tr_items)\n",
        "\n",
        "    def load_data(self, datatype: str = \"train\"):\n",
        "        if datatype == \"train\":\n",
        "            return self._load_train_data()\n",
        "        else:\n",
        "            return self._load_valid_test_data(datatype)\n",
        "\n",
        "    def _load_train_data(self) -> csr_matrix:\n",
        "        tp = pd.read_csv(self.path / \"train.csv\")\n",
        "        n_users = tp[\"user\"].max() + 1\n",
        "        rows, cols = tp[\"user\"], tp[\"item\"]\n",
        "        data = sparse.csr_matrix(\n",
        "            (np.ones_like(rows), (rows, cols)),\n",
        "            dtype=\"float32\",\n",
        "            shape=(n_users, self.n_items),\n",
        "        )\n",
        "        return data\n",
        "\n",
        "    def _load_valid_test_data(self, datatype: str) -> Tuple[csr_matrix, csr_matrix]:\n",
        "        tp_tr = pd.read_csv(self.path / \"{}_tr.csv\".format(datatype))\n",
        "        tp_te = pd.read_csv(self.path / \"{}_te.csv\".format(datatype))\n",
        "\n",
        "        start_idx = min(tp_tr[\"user\"].min(), tp_te[\"user\"].min())\n",
        "        end_idx = max(tp_tr[\"user\"].max(), tp_te[\"user\"].max())\n",
        "\n",
        "        rows_tr, cols_tr = tp_tr[\"user\"] - start_idx, tp_tr[\"item\"]\n",
        "        rows_te, cols_te = tp_te[\"user\"] - start_idx, tp_te[\"item\"]\n",
        "\n",
        "        data_tr = sparse.csr_matrix(\n",
        "            (np.ones_like(rows_tr), (rows_tr, cols_tr)),\n",
        "            dtype=\"float32\",\n",
        "            shape=(end_idx - start_idx + 1, self.n_items),\n",
        "        )\n",
        "        data_te = sparse.csr_matrix(\n",
        "            (np.ones_like(rows_te), (rows_te, cols_te)),\n",
        "            dtype=\"float32\",\n",
        "            shape=(end_idx - start_idx + 1, self.n_items),\n",
        "        )\n",
        "        return data_tr, data_te"
      ],
      "metadata": {
        "id": "MHK4_Tn3cNQI"
      },
      "execution_count": null,
      "outputs": []
    },
    {
      "cell_type": "markdown",
      "source": [
        "Para obtener las métricas, tenemos que tener instalada la biblioteca `bottleneck`."
      ],
      "metadata": {
        "id": "DrConzMLIbOL"
      }
    },
    {
      "cell_type": "code",
      "source": [
        "!pip install bottleneck"
      ],
      "metadata": {
        "colab": {
          "base_uri": "https://localhost:8080/"
        },
        "id": "ZfGicCiucnsi",
        "outputId": "a41b4b9c-e1d4-48c6-eccb-8a2d10c5f2a8"
      },
      "execution_count": null,
      "outputs": [
        {
          "output_type": "stream",
          "name": "stdout",
          "text": [
            "Requirement already satisfied: bottleneck in /usr/local/lib/python3.11/dist-packages (1.4.2)\n",
            "Requirement already satisfied: numpy in /usr/local/lib/python3.11/dist-packages (from bottleneck) (2.0.2)\n"
          ]
        }
      ]
    },
    {
      "cell_type": "markdown",
      "source": [
        "Definimos las funciones para obtener NDCG y Recall"
      ],
      "metadata": {
        "id": "1ZhTsoQuIpAo"
      }
    },
    {
      "cell_type": "code",
      "source": [
        "import bottleneck as bn\n",
        "import numpy as np\n",
        "\n",
        "\n",
        "def NDCG_binary_at_k_batch(X_pred, heldout_batch, k=100):\n",
        "    \"\"\"\n",
        "    normalized discounted cumulative gain@k for binary relevance\n",
        "    ASSUMPTIONS: all the 0's in heldout_data indicate 0 relevance\n",
        "    \"\"\"\n",
        "    batch_users = X_pred.shape[0]\n",
        "    idx_topk_part = bn.argpartition(-X_pred, k, axis=1)\n",
        "    topk_part = X_pred[np.arange(batch_users)[:, np.newaxis], idx_topk_part[:, :k]]\n",
        "    idx_part = np.argsort(-topk_part, axis=1)\n",
        "    idx_topk = idx_topk_part[np.arange(batch_users)[:, np.newaxis], idx_part]\n",
        "\n",
        "    # build the discount template\n",
        "    tp = 1.0 / np.log2(np.arange(2, k + 2))\n",
        "\n",
        "    DCG = (\n",
        "        heldout_batch[np.arange(batch_users)[:, np.newaxis], idx_topk].toarray() * tp\n",
        "    ).sum(axis=1)\n",
        "    IDCG = np.array([(tp[: min(n, k)]).sum() for n in heldout_batch.getnnz(axis=1)])\n",
        "    return DCG[IDCG > 0.0] / IDCG[IDCG > 0.0]\n",
        "\n",
        "def Recall_at_k_batch(X_pred, heldout_batch, k=100):\n",
        "    batch_users = X_pred.shape[0]\n",
        "\n",
        "    idx = bn.argpartition(-X_pred, k, axis=1)\n",
        "    X_pred_binary = np.zeros_like(X_pred, dtype=bool)\n",
        "    X_pred_binary[np.arange(batch_users)[:, np.newaxis], idx[:, :k]] = True\n",
        "\n",
        "    X_true_binary = (heldout_batch > 0).toarray()\n",
        "    tmp = (np.logical_and(X_true_binary, X_pred_binary).sum(axis=1)).astype(np.float32)\n",
        "    denominator = np.minimum(k, X_true_binary.sum(axis=1))\n",
        "    recall = tmp[denominator > 0.0] / denominator[denominator > 0.0]\n",
        "    return recall"
      ],
      "metadata": {
        "id": "b653o_BDcim7"
      },
      "execution_count": null,
      "outputs": []
    },
    {
      "cell_type": "code",
      "source": [
        "import os\n",
        "import pickle\n",
        "from datetime import datetime\n",
        "\n",
        "from torch.optim.lr_scheduler import ReduceLROnPlateau\n",
        "from tqdm import trange"
      ],
      "metadata": {
        "id": "0uTk1DpCb4m2"
      },
      "execution_count": null,
      "outputs": []
    },
    {
      "cell_type": "code",
      "source": [
        "use_cuda = torch.cuda.is_available()\n",
        "device = torch.device(\"cuda\" if use_cuda else \"cpu\")"
      ],
      "metadata": {
        "id": "3rPRGvKfdXLR"
      },
      "execution_count": null,
      "outputs": []
    },
    {
      "cell_type": "code",
      "source": [
        "device"
      ],
      "metadata": {
        "colab": {
          "base_uri": "https://localhost:8080/"
        },
        "id": "dAPAhJ8NnkXs",
        "outputId": "7075d037-da7b-4726-b877-bc4aa797521c"
      },
      "execution_count": null,
      "outputs": [
        {
          "output_type": "execute_result",
          "data": {
            "text/plain": [
              "device(type='cuda')"
            ]
          },
          "metadata": {},
          "execution_count": 40
        }
      ]
    },
    {
      "cell_type": "markdown",
      "source": [
        "Cargamos los datos"
      ],
      "metadata": {
        "id": "awuAHwzQJF0X"
      }
    },
    {
      "cell_type": "code",
      "source": [
        "data_loader = DataLoader(data_path)\n",
        "n_items = data_loader.n_items\n",
        "train_data = data_loader.load_data(\"train\")\n",
        "valid_data_tr, valid_data_te = data_loader.load_data(\"validation\")\n",
        "test_data_tr, test_data_te = data_loader.load_data(\"test\")"
      ],
      "metadata": {
        "id": "cZFzsQCIdVqB"
      },
      "execution_count": null,
      "outputs": []
    },
    {
      "cell_type": "code",
      "source": [
        "train_data"
      ],
      "metadata": {
        "colab": {
          "base_uri": "https://localhost:8080/"
        },
        "id": "UP2RB8NRnpo8",
        "outputId": "64f9b33c-0e57-48e3-b54b-f8c8e56c74d6"
      },
      "execution_count": null,
      "outputs": [
        {
          "output_type": "execute_result",
          "data": {
            "text/plain": [
              "<Compressed Sparse Row sparse matrix of dtype 'float32'\n",
              "\twith 7781871 stored elements and shape (109183, 19901)>"
            ]
          },
          "metadata": {},
          "execution_count": 42
        }
      ]
    },
    {
      "cell_type": "markdown",
      "source": [
        "Definimos parámetros de entrenamiento"
      ],
      "metadata": {
        "id": "IRw_QiT0d9Qq"
      }
    },
    {
      "cell_type": "code",
      "source": [
        "batch_size = 500\n",
        "anneal_epochs = None\n",
        "anneal_cap = 0.2\n",
        "constant_anneal = False\n",
        "n_epochs = 200\n",
        "lr = 0.001\n",
        "weight_decay = 0."
      ],
      "metadata": {
        "id": "nsehF4t1oQKq"
      },
      "execution_count": null,
      "outputs": []
    },
    {
      "cell_type": "code",
      "source": [
        "training_steps = len(range(0, train_data.shape[0], batch_size))\n",
        "try:\n",
        "    total_anneal_steps = (\n",
        "        training_steps * (n_epochs - int(n_epochs * 0.15))\n",
        "    ) / anneal_cap\n",
        "except ZeroDivisionError:\n",
        "    assert constant_anneal, \"if 'anneal_cap' is set to 0.0 'constant_anneal' must be set to 'True\""
      ],
      "metadata": {
        "id": "QdpoCT32oH_p"
      },
      "execution_count": null,
      "outputs": []
    },
    {
      "cell_type": "markdown",
      "metadata": {
        "id": "w-N4u9bybEDW"
      },
      "source": [
        "Definimos la función para el paso de entrenamiento"
      ]
    },
    {
      "cell_type": "code",
      "source": [
        "def train_step(model, optimizer, data, epoch):\n",
        "\n",
        "    model.train()\n",
        "    running_loss = 0.0\n",
        "    global update_count\n",
        "    N = data.shape[0]\n",
        "    idxlist = list(range(N))\n",
        "    np.random.shuffle(idxlist)\n",
        "    training_steps = len(range(0, N, batch_size))\n",
        "\n",
        "    with trange(training_steps) as t:\n",
        "        for batch_idx, start_idx in zip(t, range(0, N, batch_size)):\n",
        "            t.set_description(\"epoch: {}\".format(epoch + 1))\n",
        "\n",
        "            end_idx = min(start_idx + batch_size, N)\n",
        "            X_inp = data[idxlist[start_idx:end_idx]]\n",
        "            X_inp = torch.FloatTensor(X_inp.toarray()).to(device)\n",
        "\n",
        "            if constant_anneal:\n",
        "                anneal = anneal_cap\n",
        "            else:\n",
        "                anneal = min(anneal_cap, update_count / total_anneal_steps)\n",
        "            update_count += 1\n",
        "\n",
        "            optimizer.zero_grad()\n",
        "            if model.__class__.__name__ == \"MultiVAE\":\n",
        "                X_out, mu, logvar = model(X_inp)\n",
        "                loss = vae_loss_fn(X_inp, X_out, mu, logvar, anneal)\n",
        "                train_step.anneal = anneal\n",
        "            elif model.__class__.__name__ == \"MultiDAE\":\n",
        "                X_out = model(X_inp)\n",
        "                loss = -torch.mean(torch.sum(F.log_softmax(X_out, 1) * X_inp, -1))\n",
        "            loss.backward()\n",
        "            optimizer.step()\n",
        "            running_loss += loss.item()\n",
        "            avg_loss = running_loss / (batch_idx + 1)\n",
        "\n",
        "            t.set_postfix(loss=avg_loss)"
      ],
      "metadata": {
        "id": "kdKCcIfiocqC"
      },
      "execution_count": null,
      "outputs": []
    },
    {
      "cell_type": "markdown",
      "metadata": {
        "id": "VOyloHV7bEDX"
      },
      "source": [
        "Y para el paso de evaluación"
      ]
    },
    {
      "cell_type": "code",
      "source": [
        "def eval_step(data_tr, data_te, data_type=\"valid\"):\n",
        "\n",
        "    model.eval()\n",
        "    running_loss = 0.0\n",
        "    eval_idxlist = list(range(data_tr.shape[0]))\n",
        "    eval_N = data_tr.shape[0]\n",
        "    eval_steps = len(range(0, eval_N, batch_size))\n",
        "\n",
        "    n100_list, r20_list, r50_list = [], [], []\n",
        "\n",
        "    with trange(eval_steps) as t:\n",
        "        with torch.no_grad():\n",
        "            for batch_idx, start_idx in zip(t, range(0, eval_N, batch_size)):\n",
        "                t.set_description(data_type)\n",
        "\n",
        "                end_idx = min(start_idx + batch_size, eval_N)\n",
        "                X_tr = data_tr[eval_idxlist[start_idx:end_idx]]\n",
        "                X_te = data_te[eval_idxlist[start_idx:end_idx]]\n",
        "                X_tr_inp = torch.FloatTensor(X_tr.toarray()).to(device)\n",
        "\n",
        "                if model.__class__.__name__ == \"MultiVAE\":\n",
        "                    X_out, mu, logvar = model(X_tr_inp)\n",
        "                    loss = vae_loss_fn(X_tr_inp, X_out, mu, logvar, train_step.anneal)\n",
        "                elif model.__class__.__name__ == \"MultiDAE\":\n",
        "                    X_out = model(X_tr_inp)\n",
        "                    loss = -torch.mean(\n",
        "                        torch.sum(F.log_softmax(X_out, 1) * X_tr_inp, -1)\n",
        "                    )\n",
        "                running_loss += loss.item()\n",
        "                avg_loss = running_loss / (batch_idx + 1)\n",
        "\n",
        "                # Exclude examples from training set\n",
        "                X_out = X_out.cpu().numpy()\n",
        "                X_out[X_tr.nonzero()] = -np.inf\n",
        "\n",
        "                n100 = NDCG_binary_at_k_batch(X_out, X_te, k=100)\n",
        "                r20 = Recall_at_k_batch(X_out, X_te, k=20)\n",
        "                r50 = Recall_at_k_batch(X_out, X_te, k=50)\n",
        "                n100_list.append(n100)\n",
        "                r20_list.append(r20)\n",
        "                r50_list.append(r50)\n",
        "\n",
        "                t.set_postfix(loss=avg_loss)\n",
        "\n",
        "        n100_list = np.concatenate(n100_list)\n",
        "        r20_list = np.concatenate(r20_list)\n",
        "        r50_list = np.concatenate(r50_list)\n",
        "\n",
        "    return avg_loss, np.mean(n100_list), np.mean(r20_list), np.mean(r50_list)"
      ],
      "metadata": {
        "id": "mDQFg7GeosGV"
      },
      "execution_count": null,
      "outputs": []
    },
    {
      "cell_type": "markdown",
      "metadata": {
        "id": "bbB-w2okbEDa"
      },
      "source": [
        "### 3.1 Correr el entrenamiento\n",
        "\n",
        "En primer lugar, instanciamos el modelo."
      ]
    },
    {
      "cell_type": "code",
      "source": [
        "model = MultiVAE(\n",
        "    p_dims=[200, 600, n_items],\n",
        "    q_dims=[n_items, 600, 200],\n",
        "    dropout_enc=[0.5, 0.0],\n",
        "    dropout_dec=[0.0, 0.0],\n",
        ")\n",
        "model_name = 'vae'"
      ],
      "metadata": {
        "id": "NeN4G86mo5Jm"
      },
      "execution_count": null,
      "outputs": []
    },
    {
      "cell_type": "code",
      "source": [
        "model"
      ],
      "metadata": {
        "colab": {
          "base_uri": "https://localhost:8080/"
        },
        "id": "OtH1sJzspCIX",
        "outputId": "a180f1ee-fc9d-4c67-f547-31306ad643ea"
      },
      "execution_count": null,
      "outputs": [
        {
          "output_type": "execute_result",
          "data": {
            "text/plain": [
              "MultiVAE(\n",
              "  (encode): VAEEncoder(\n",
              "    (q_layers): Sequential(\n",
              "      (dropout_0): Dropout(p=0.5, inplace=False)\n",
              "      (linear_0): Linear(in_features=19901, out_features=600, bias=True)\n",
              "      (dropout_1): Dropout(p=0.0, inplace=False)\n",
              "      (linear_1): Linear(in_features=600, out_features=400, bias=True)\n",
              "    )\n",
              "  )\n",
              "  (decode): Decoder(\n",
              "    (p_layers): Sequential(\n",
              "      (dropout_0): Dropout(p=0.0, inplace=False)\n",
              "      (linear_0): Linear(in_features=200, out_features=600, bias=True)\n",
              "      (dropout_1): Dropout(p=0.0, inplace=False)\n",
              "      (linear_1): Linear(in_features=600, out_features=19901, bias=True)\n",
              "    )\n",
              "  )\n",
              ")"
            ]
          },
          "metadata": {},
          "execution_count": 48
        }
      ]
    },
    {
      "cell_type": "markdown",
      "source": [
        "Definimos una función para inicializar los pesos."
      ],
      "metadata": {
        "id": "LbI_tYLVKTNm"
      }
    },
    {
      "cell_type": "code",
      "source": [
        "def init_weights(model):\n",
        "    for name, param in model.named_parameters():\n",
        "        if \"weight\" in name:\n",
        "            nn.init.xavier_uniform_(param.data)\n",
        "        elif \"bias\" in name:\n",
        "            param.data.normal_(std=0.001)"
      ],
      "metadata": {
        "id": "nC2_5d7IpScb"
      },
      "execution_count": null,
      "outputs": []
    },
    {
      "cell_type": "markdown",
      "source": [
        "Inicializamos los pesos, enviamos el modelo a la GPU (en caso de que se encuentre disponible) y definimos el optimizador."
      ],
      "metadata": {
        "id": "YVRcsSpIKZHh"
      }
    },
    {
      "cell_type": "code",
      "source": [
        "init_weights(model)\n",
        "model.to(device)\n",
        "optimizer = torch.optim.AdamW(\n",
        "    model.parameters(), lr=lr, weight_decay=weight_decay\n",
        ")"
      ],
      "metadata": {
        "id": "mH-TRF4ZpFAH"
      },
      "execution_count": null,
      "outputs": []
    },
    {
      "cell_type": "markdown",
      "source": [
        "Para VAE, se usa una función de pérdida especial, la cual se define a continuación"
      ],
      "metadata": {
        "id": "0lEQPSZfKlE9"
      }
    },
    {
      "cell_type": "code",
      "source": [
        "def vae_loss_fn(inp, out, mu, logvar, anneal):\n",
        "    neg_ll = -torch.mean(torch.sum(F.log_softmax(out, 1) * inp, -1))\n",
        "    KLD = -0.5 * torch.mean(torch.sum(1 + logvar - mu.pow(2) - logvar.exp(), dim=1))\n",
        "    return neg_ll + anneal * KLD"
      ],
      "metadata": {
        "id": "IgpthouKpTgJ"
      },
      "execution_count": null,
      "outputs": []
    },
    {
      "cell_type": "markdown",
      "source": [
        "Finalmente se corre una época para probar que el modelo funcione correctamente."
      ],
      "metadata": {
        "id": "DJphgMSEKqxh"
      }
    },
    {
      "cell_type": "code",
      "source": [
        "stop_step = 0\n",
        "update_count = 0\n",
        "eval_every = 1\n",
        "stop = False\n",
        "n_epochs = 5\n",
        "val_loss_dict, n100_dict, r20_dict, r50_dict = {}, {}, {}, {}\n",
        "for epoch in range(n_epochs):\n",
        "    train_step(model, optimizer, train_data, epoch)\n",
        "    if epoch % eval_every == (eval_every - 1):\n",
        "        val_loss, n100, r20, r50 = eval_step(valid_data_tr, valid_data_te)\n",
        "        print(\"=\" * 80)\n",
        "        print(\n",
        "            \"| valid loss {:4.3f} | n100 {:4.3f} | r20 {:4.3f} | \"\n",
        "            \"r50 {:4.3f}\".format(val_loss, n100, r20, r50)\n",
        "        )\n",
        "        print(\"=\" * 80)\n",
        "        val_loss_dict[epoch] = val_loss\n",
        "        n100_dict[epoch] = n100\n",
        "        r20_dict[epoch] = r20\n",
        "        r50_dict[epoch] = r50"
      ],
      "metadata": {
        "colab": {
          "base_uri": "https://localhost:8080/"
        },
        "id": "bZ5ErUYxpzDU",
        "outputId": "ce0498c1-7984-4aa8-f75b-9eaa53020404"
      },
      "execution_count": null,
      "outputs": [
        {
          "output_type": "stream",
          "name": "stderr",
          "text": [
            "epoch: 1: 100%|██████████| 219/219 [00:20<00:00, 10.91it/s, loss=559]\n",
            "valid: 100%|██████████| 28/28 [00:09<00:00,  3.07it/s, loss=430]\n"
          ]
        },
        {
          "output_type": "stream",
          "name": "stdout",
          "text": [
            "================================================================================\n",
            "| valid loss 430.341 | n100 0.235 | r20 0.207 | r50 0.311\n",
            "================================================================================\n"
          ]
        },
        {
          "output_type": "stream",
          "name": "stderr",
          "text": [
            "epoch: 2: 100%|██████████| 219/219 [00:09<00:00, 24.15it/s, loss=521]\n",
            "valid: 100%|██████████| 28/28 [00:08<00:00,  3.46it/s, loss=405]\n"
          ]
        },
        {
          "output_type": "stream",
          "name": "stdout",
          "text": [
            "================================================================================\n",
            "| valid loss 404.559 | n100 0.300 | r20 0.272 | r50 0.393\n",
            "================================================================================\n"
          ]
        },
        {
          "output_type": "stream",
          "name": "stderr",
          "text": [
            "epoch: 3: 100%|██████████| 219/219 [00:09<00:00, 22.12it/s, loss=500]\n",
            "valid: 100%|██████████| 28/28 [00:08<00:00,  3.24it/s, loss=391]\n"
          ]
        },
        {
          "output_type": "stream",
          "name": "stdout",
          "text": [
            "================================================================================\n",
            "| valid loss 391.265 | n100 0.348 | r20 0.318 | r50 0.445\n",
            "================================================================================\n"
          ]
        },
        {
          "output_type": "stream",
          "name": "stderr",
          "text": [
            "epoch: 4: 100%|██████████| 219/219 [00:08<00:00, 24.48it/s, loss=487]\n",
            "valid: 100%|██████████| 28/28 [00:08<00:00,  3.47it/s, loss=384]\n"
          ]
        },
        {
          "output_type": "stream",
          "name": "stdout",
          "text": [
            "================================================================================\n",
            "| valid loss 384.134 | n100 0.371 | r20 0.341 | r50 0.474\n",
            "================================================================================\n"
          ]
        },
        {
          "output_type": "stream",
          "name": "stderr",
          "text": [
            "epoch: 5: 100%|██████████| 219/219 [00:10<00:00, 21.50it/s, loss=482]\n",
            "valid: 100%|██████████| 28/28 [00:07<00:00,  3.51it/s, loss=380]"
          ]
        },
        {
          "output_type": "stream",
          "name": "stdout",
          "text": [
            "================================================================================\n",
            "| valid loss 380.334 | n100 0.382 | r20 0.354 | r50 0.486\n",
            "================================================================================\n"
          ]
        },
        {
          "output_type": "stream",
          "name": "stderr",
          "text": [
            "\n"
          ]
        }
      ]
    },
    {
      "cell_type": "markdown",
      "source": [
        "Guardamos el modelo"
      ],
      "metadata": {
        "id": "2yYVejymV8Q5"
      }
    },
    {
      "cell_type": "code",
      "source": [
        "torch.save(model.state_dict(), f'results/{model_name + \".pt\"}')"
      ],
      "metadata": {
        "id": "CCPdhQUfVPpd"
      },
      "execution_count": null,
      "outputs": []
    },
    {
      "cell_type": "markdown",
      "source": [
        "Y finalmente podemos hacer testeo sobre el modelo"
      ],
      "metadata": {
        "id": "HUAKysmZblsK"
      }
    },
    {
      "cell_type": "code",
      "source": [
        "model.load_state_dict(torch.load(f'results/{model_name + \".pt\"}'))\n",
        "model.to(device)\n",
        "test_loss, n100, r20, r50 = eval_step(\n",
        "    test_data_tr, test_data_te, data_type=\"test\"\n",
        ")\n",
        "print(\"=\" * 80)\n",
        "print(\n",
        "    \"| End of training | test loss {:4.3f} | n100 {:4.3f} | r20 {:4.3f} | \"\n",
        "    \"r50 {:4.3f}\".format(test_loss, n100, r20, r50)\n",
        ")\n",
        "print(\"=\" * 80)\n",
        "\n",
        "# Save results\n",
        "results_d = {}\n",
        "results_d[\"loss\"] = test_loss\n",
        "results_d[\"n100\"] = n100\n",
        "results_d[\"r20\"] = r20\n",
        "results_d[\"r50\"] = r50\n",
        "pickle.dump(results_d, open(f'results/{model_name + \".p\"}', \"wb\"))"
      ],
      "metadata": {
        "colab": {
          "base_uri": "https://localhost:8080/"
        },
        "id": "3tI9pMN6YqPt",
        "outputId": "8502ad95-7aa7-42a5-ccfb-b93741a5cfcf"
      },
      "execution_count": null,
      "outputs": [
        {
          "output_type": "stream",
          "name": "stderr",
          "text": [
            "test: 100%|██████████| 28/28 [00:08<00:00,  3.34it/s, loss=382]"
          ]
        },
        {
          "output_type": "stream",
          "name": "stdout",
          "text": [
            "================================================================================\n",
            "| End of training | test loss 382.485 | n100 0.382 | r20 0.353 | r50 0.485\n",
            "================================================================================\n"
          ]
        },
        {
          "output_type": "stream",
          "name": "stderr",
          "text": [
            "\n"
          ]
        }
      ]
    },
    {
      "cell_type": "markdown",
      "source": [
        "## 4. Graficar los resultados"
      ],
      "metadata": {
        "id": "412Jm1z6T4ew"
      }
    },
    {
      "cell_type": "code",
      "source": [
        "import matplotlib.pyplot as plt"
      ],
      "metadata": {
        "id": "M05DIoX8cnNC"
      },
      "execution_count": null,
      "outputs": []
    },
    {
      "cell_type": "code",
      "source": [
        "def dict_to_plot(d, name):\n",
        "    x = d.keys()\n",
        "    y = d.values()\n",
        "    plt.plot(x, y)\n",
        "    plt.title(name)"
      ],
      "metadata": {
        "id": "rxsEdljVcaJV"
      },
      "execution_count": null,
      "outputs": []
    },
    {
      "cell_type": "code",
      "source": [
        "dict_to_plot(val_loss_dict, 'val_loss')"
      ],
      "metadata": {
        "colab": {
          "base_uri": "https://localhost:8080/",
          "height": 452
        },
        "id": "agl73RJBcpjQ",
        "outputId": "f6863225-359a-4ecd-ccdd-e950aadbf4bc"
      },
      "execution_count": null,
      "outputs": [
        {
          "output_type": "display_data",
          "data": {
            "text/plain": [
              "<Figure size 640x480 with 1 Axes>"
            ],
            "image/png": "[encoded data removed]"
          },
          "metadata": {}
        }
      ]
    },
    {
      "cell_type": "code",
      "source": [
        "dict_to_plot(n100_dict, 'ndcg@100')"
      ],
      "metadata": {
        "colab": {
          "base_uri": "https://localhost:8080/",
          "height": 452
        },
        "id": "q4UyNtgZc6f1",
        "outputId": "e8ad9416-47f9-4875-d802-ec34f6b4b21a"
      },
      "execution_count": null,
      "outputs": [
        {
          "output_type": "display_data",
          "data": {
            "text/plain": [
              "<Figure size 640x480 with 1 Axes>"
            ],
            "image/png": "[encoded data removed]"
          },
          "metadata": {}
        }
      ]
    },
    {
      "cell_type": "code",
      "source": [
        "dict_to_plot(r20_dict, 'recall@20')"
      ],
      "metadata": {
        "colab": {
          "base_uri": "https://localhost:8080/",
          "height": 452
        },
        "id": "q5UxvVJ9ctRT",
        "outputId": "81a296de-a072-4bc8-e499-6da71ea67b1b"
      },
      "execution_count": null,
      "outputs": [
        {
          "output_type": "display_data",
          "data": {
            "text/plain": [
              "<Figure size 640x480 with 1 Axes>"
            ],
            "image/png": "[encoded data removed]"
          },
          "metadata": {}
        }
      ]
    },
    {
      "cell_type": "code",
      "source": [
        "dict_to_plot(r50_dict, 'recall@50')"
      ],
      "metadata": {
        "colab": {
          "base_uri": "https://localhost:8080/",
          "height": 452
        },
        "id": "UGeDonlwdDTR",
        "outputId": "c5495cce-b5ac-4f4b-9b74-629240873348"
      },
      "execution_count": null,
      "outputs": [
        {
          "output_type": "display_data",
          "data": {
            "text/plain": [
              "<Figure size 640x480 with 1 Axes>"
            ],
            "image/png": "[encoded data removed]"
          },
          "metadata": {}
        }
      ]
    },
    {
      "cell_type": "markdown",
      "source": [
        "## Actividad:"
      ],
      "metadata": {
        "id": "Zee9rNdtFLDX"
      }
    },
    {
      "cell_type": "markdown",
      "source": [
        "### Parte 1 (2ptos):\n",
        "\n",
        "Explique de qué se trata el modelo MultVAE."
      ],
      "metadata": {
        "id": "V9VtDU5mFcYG"
      }
    },
    {
      "cell_type": "markdown",
      "source": [
        "*RESPUESTA:*"
      ],
      "metadata": {
        "id": "qtvhMVsZFjNm"
      }
    },
    {
      "cell_type": "markdown",
      "source": [
        "### Parte 2 (4ptos):\n",
        "\n",
        "Elija uno de las dos versiones del problema de recomendación (con o sin información adicional para usuarios o ítems) e intente mejorar el desempeño de la recomendación. Para esto, pruebe al menos dos combinaciones de hiperparámetros distintas en el problema elegido. Se debe generar una hipótesis de por qué podría mejorar con dicha combinación de hiperparámetros.\n",
        "\n",
        "PD: Se asignará puntaje completo tanto si se logra o no mejorar la recomendación. Lo importante es que hagan la experimentación."
      ],
      "metadata": {
        "id": "pNwQmFkAFm_u"
      }
    },
    {
      "cell_type": "code",
      "source": [],
      "metadata": {
        "id": "Hje2tcjiQzEc"
      },
      "execution_count": null,
      "outputs": []
    }
  ]
}