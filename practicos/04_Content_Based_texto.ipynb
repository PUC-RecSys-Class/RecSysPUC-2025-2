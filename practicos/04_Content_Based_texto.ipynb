{
  "cells": [
    {
      "cell_type": "markdown",
      "metadata": {
        "id": "URsUT4uiLy0i"
      },
      "source": [
        "# Práctico Content-based (Texto)\n",
        "\n",
        "**Profesor:** Denis Parra\n",
        "\n",
        "**Alumno:** `ESCRIBIR TU NOMBRE AQUI`\n",
        "\n",
        "\n",
        "En este proyecto trabajaremos con un modelo de recomendacion de libros de la página [Goodreads](http://www.goodreads.com). El modelo de recomendación de libros es un recomendador basado en contenido, donde se utilizan modelos de lenguage BERT y BERT-large para el cálculo de embeddings de los libros y luego similaridades de ítems. Luego, dependiendo de los libros con los que el usuario ha interactuado, se recomiendan los ítems más similares."
      ]
    },
    {
      "cell_type": "code",
      "execution_count": null,
      "metadata": {
        "ExecuteTime": {
          "end_time": "2020-09-05T12:07:02.503203Z",
          "start_time": "2020-09-05T12:07:02.498207Z"
        },
        "id": "_jciMPzaLy0j"
      },
      "outputs": [],
      "source": [
        "import numpy as np\n",
        "import json\n",
        "import requests\n",
        "import heapq\n",
        "import math\n",
        "import matplotlib.pyplot as plt\n",
        "from sklearn.metrics import pairwise_distances\n",
        "from sklearn.decomposition import PCA\n",
        "from io import BytesIO\n",
        "import pickle\n",
        "import pandas as pd\n",
        "import time"
      ]
    },
    {
      "cell_type": "markdown",
      "metadata": {
        "id": "BN8KY7PzLy0n"
      },
      "source": [
        "Descargamos datos que vienen previamente calculados:\n",
        "- transacciones/interacciones de cada usuario\n",
        "- transaciones para evaluar el modelo\n",
        "- embeddings de descripciones calculados con BERT  \n",
        "- embeddings de descripciones calculados con BERT-large\n",
        "- datos de libros con información de titulo, descripcion, año de publicacion, entre otros."
      ]
    },
    {
      "cell_type": "code",
      "execution_count": null,
      "metadata": {
        "id": "GCdioSuCLy0o"
      },
      "outputs": [],
      "source": [
        "!wget https://www.dropbox.com/s/57tel5zqopkssrh/books.csv?dl=0 -O books.csv\n",
        "!wget https://www.dropbox.com/s/zpnnoy1i8ljf9fg/goodreads_bert_embeddings.npy?dl=0 -O goodreads_bert_embeddings.npy\n",
        "!wget https://www.dropbox.com/s/a8hcc9w30y7r3jl/goodreads_bert_large_embeddings.npy?dl=0 -O goodreads_bert_large_embeddings.npy\n",
        "!wget https://www.dropbox.com/s/dqeqpsr0vdvmcy0/goodreads_past_interactions.json?dl=0 -O goodreads_past_interactions.json\n",
        "!wget https://www.dropbox.com/s/rjtzhmb2zbpp30q/goodreads_test_interactions.json?dl=0 -O goodreads_test_interactions.json"
      ]
    },
    {
      "cell_type": "markdown",
      "metadata": {
        "id": "5k5qsAdHLy0r"
      },
      "source": [
        "# Cargar datos adicionales"
      ]
    },
    {
      "cell_type": "code",
      "execution_count": null,
      "metadata": {
        "ExecuteTime": {
          "end_time": "2020-09-05T12:07:07.594155Z",
          "start_time": "2020-09-05T12:07:07.527654Z"
        },
        "id": "baVHkwjaLy0r"
      },
      "outputs": [],
      "source": [
        "df_books = pd.read_csv('books.csv', sep=',')\n",
        "df_books.head()"
      ]
    },
    {
      "cell_type": "code",
      "execution_count": null,
      "metadata": {
        "id": "zQ2jn66xjMcp"
      },
      "outputs": [],
      "source": [
        "df_books.columns"
      ]
    },
    {
      "cell_type": "code",
      "execution_count": null,
      "metadata": {
        "id": "mTN9xVJ-iWCO"
      },
      "outputs": [],
      "source": [
        "print(\"# ítems   --> \", df_books[\"book_id\"].nunique())"
      ]
    },
    {
      "cell_type": "code",
      "execution_count": null,
      "metadata": {
        "ExecuteTime": {
          "end_time": "2020-09-05T11:35:31.626497Z",
          "start_time": "2020-09-05T11:35:31.613866Z"
        },
        "id": "JhraS621Ly0v"
      },
      "outputs": [],
      "source": [
        "# diccionario con id del usuario y id de libros con los que ha interactuado en el pasado\n",
        "with open('goodreads_past_interactions.json') as f:\n",
        "    user_interactions = json.load(f)\n",
        "\n",
        "# diccionario con id del usuario y id de libros para testear el modelo\n",
        "with open('goodreads_test_interactions.json') as f:\n",
        "    user_interactions_test = json.load(f)\n"
      ]
    },
    {
      "cell_type": "code",
      "execution_count": null,
      "metadata": {
        "ExecuteTime": {
          "end_time": "2020-09-05T11:35:49.010912Z",
          "start_time": "2020-09-05T11:35:49.007005Z"
        },
        "id": "kklEXHTMLy03"
      },
      "outputs": [],
      "source": [
        "# dict index 2 book id and vice-versa for recommendation\n",
        "idx2bookid = {i: id_ for i, id_ in enumerate(df_books.book_id)}\n",
        "bookid2idx = {id_:i for i, id_ in enumerate(df_books.book_id)}"
      ]
    },
    {
      "cell_type": "markdown",
      "metadata": {
        "id": "vpgk8_p-Ly06"
      },
      "source": [
        "# Cargar características pre-entrenadas: BERT y BERT-large\n",
        "\n",
        "En esta sección se trabajará con modelos pre-entrenados de modelos de lenguage BERT y BERT-large que convierten texto a embeddings.\n",
        "\n",
        "Bidirectional Encoder Representations from Transformers (BERT) es una técnica de NLP (Natural Language Processing) desarrollada por Google y publicada en 2018 por Jacob Devlin.\n",
        "\n",
        "Actualmente Google utiliza BERT para entender las consultas de los usuarios en su buscador.\n",
        "\n",
        "Tiene dos versiones:\n",
        "- **BERT:** 12 capas, 12 cabezales de atencion y 110 millones de parámetros. Genera vectores de 768 dimensiones\n",
        "- **BERT-large:** 24 capas, 16 cabezales de atencion y 340 millones de parámetros. Genera vectores de 1024 dimensiones\n",
        "\n",
        "![BERT y BERT-large](http://jalammar.github.io/images/bert-base-bert-large.png)\n",
        "\n",
        "![BERT y BERT-large arquitectura](http://jalammar.github.io/images/bert-base-bert-large-encoders.png)\n",
        "\n",
        "En este caso los textos que utilizaremos son los títulos de los libros con su descripción y compararemos los resultados de recomendación con BERT y BERT-large. Para efectos de este trabajo los vectores de características ya fueron entrenados y guardados en archivos numpy. A continuación son cargados en memoria.\n",
        "\n",
        "Para mayores detalles sobre el modelo de lenguaje BERT se recomienda revisar el siguiente artículo:\n",
        "- [BERT: Pre-training of Deep Bidirectional Transformers for Language Understanding](https://arxiv.org/pdf/1810.04805.pdf)\n"
      ]
    },
    {
      "cell_type": "code",
      "execution_count": null,
      "metadata": {
        "ExecuteTime": {
          "end_time": "2020-09-05T11:35:57.092349Z",
          "start_time": "2020-09-05T11:35:57.075885Z"
        },
        "id": "70GKnNfrLy06"
      },
      "outputs": [],
      "source": [
        "bert_featmat = np.load('goodreads_bert_embeddings.npy', allow_pickle=True)\n",
        "bert_large_featmat = np.load('goodreads_bert_large_embeddings.npy', allow_pickle=True)"
      ]
    },
    {
      "cell_type": "code",
      "execution_count": null,
      "metadata": {
        "ExecuteTime": {
          "end_time": "2020-09-05T11:35:59.530323Z",
          "start_time": "2020-09-05T11:35:59.525324Z"
        },
        "id": "u_do7vxtLy0_"
      },
      "outputs": [],
      "source": [
        "bert_featmat.shape"
      ]
    },
    {
      "cell_type": "code",
      "execution_count": null,
      "metadata": {
        "ExecuteTime": {
          "end_time": "2020-09-05T11:36:00.421823Z",
          "start_time": "2020-09-05T11:36:00.411993Z"
        },
        "id": "076Tu9o-Ly1C"
      },
      "outputs": [],
      "source": [
        "bert_large_featmat.shape"
      ]
    },
    {
      "cell_type": "markdown",
      "metadata": {
        "id": "EOp61nz0Ly1E"
      },
      "source": [
        "### **Pregunta 1**\n",
        "\n",
        "Considerando que haremos un recomendador basado en contenidos ¿Por qué el uso de modelos de lenguage es una buena elección para este tipo de problema?"
      ]
    },
    {
      "cell_type": "markdown",
      "metadata": {
        "id": "YtMPx5VfLy1F"
      },
      "source": [
        "**Respuesta 1:**"
      ]
    },
    {
      "cell_type": "markdown",
      "metadata": {
        "id": "oV1SmfEoLy1F"
      },
      "source": [
        "# Probamos con BERT y BERT-large reduciendo dimensionalidad con PCA-20\n",
        "\n",
        "Una vez calculado (o cargado) los vectores característicos de cada libro a partir de su titulo y descripción, reducimos dimensionalidad. Probaremos con BERT y BERT-large para comparar los resultados de ambos en recomendación basada en contenido.\n"
      ]
    },
    {
      "cell_type": "code",
      "execution_count": null,
      "metadata": {
        "ExecuteTime": {
          "end_time": "2020-09-05T11:36:15.597694Z",
          "start_time": "2020-09-05T11:36:14.926635Z"
        },
        "id": "K63l3IDDLy1G"
      },
      "outputs": [],
      "source": [
        "# Project into a 20 PCA feature space\n",
        "pca20_bert_featmat = PCA(n_components=20).fit_transform(bert_featmat)\n",
        "pca20_bert_large_featmat = PCA(n_components=20).fit_transform(bert_large_featmat)"
      ]
    },
    {
      "cell_type": "code",
      "execution_count": null,
      "metadata": {
        "ExecuteTime": {
          "end_time": "2020-09-05T11:36:16.530240Z",
          "start_time": "2020-09-05T11:36:16.524921Z"
        },
        "id": "edXddHMgLy1I"
      },
      "outputs": [],
      "source": [
        "pca20_bert_featmat.shape"
      ]
    },
    {
      "cell_type": "code",
      "execution_count": null,
      "metadata": {
        "ExecuteTime": {
          "end_time": "2020-09-05T11:36:17.395228Z",
          "start_time": "2020-09-05T11:36:17.390291Z"
        },
        "id": "poVgB01ELy1K"
      },
      "outputs": [],
      "source": [
        "pca20_bert_large_featmat.shape"
      ]
    },
    {
      "cell_type": "markdown",
      "metadata": {
        "id": "5I-uPstPLy1N"
      },
      "source": [
        "### **Pregunta 2**\n",
        "\n",
        "Comente por qué se utiliza PCA para reducir la dimensión de cada vector característico. ¿Qué sucede con la pérdida de información en la reducción de dimensionalidad?"
      ]
    },
    {
      "cell_type": "markdown",
      "metadata": {
        "id": "vZTjzT8oLy1N"
      },
      "source": [
        "**Respuesta 2:**"
      ]
    },
    {
      "cell_type": "markdown",
      "metadata": {
        "id": "72J6mq5CLy1N"
      },
      "source": [
        "# Similar document retrieval\n",
        "\n",
        "En esta sección utilizaremos los vectores cargados para hacer un sistema de recuperación o búsqueda de información, para diferentes métricas de distancia.\n",
        "\n",
        "Buscamos libros similares de acuerdo a la representación vectorial (BERT) de su título y descripción.\n"
      ]
    },
    {
      "cell_type": "code",
      "execution_count": null,
      "metadata": {
        "ExecuteTime": {
          "end_time": "2020-09-05T11:36:25.394834Z",
          "start_time": "2020-09-05T11:36:25.390694Z"
        },
        "id": "SxCprSiiLy1O"
      },
      "outputs": [],
      "source": [
        "# format results\n",
        "pd.options.display.max_colwidth = 50 # ...máximo de columna"
      ]
    },
    {
      "cell_type": "code",
      "execution_count": null,
      "metadata": {
        "ExecuteTime": {
          "end_time": "2020-09-05T11:36:26.354216Z",
          "start_time": "2020-09-05T11:36:26.347790Z"
        },
        "id": "2Za4TGZ5Ly1Q"
      },
      "outputs": [],
      "source": [
        "# Find similar images by image id\n",
        "def find_similar_books(embedding, query_id=None, metric='euclidean', topk=10):\n",
        "\n",
        "    n = embedding.shape[0]\n",
        "\n",
        "    if query_id is None:\n",
        "        query_i = np.random.randint(n)\n",
        "        query_id = idx2bookid[query_i]\n",
        "\n",
        "    else:\n",
        "        query_i = bookid2idx[query_id]\n",
        "\n",
        "\n",
        "    distances = pairwise_distances(embedding[query_i].reshape(1,-1), embedding, metric=metric)\n",
        "    heap = []\n",
        "    for i in range(n):\n",
        "        if len(heap) < topk:\n",
        "            heapq.heappush(heap, (-distances[0][i], i))\n",
        "        else:\n",
        "            heapq.heappushpop(heap, (-distances[0][i], i))\n",
        "\n",
        "    heap.sort(reverse=True)\n",
        "    rec_ids = [idx2bookid[i] for _,i in heap]\n",
        "\n",
        "    return rec_ids"
      ]
    },
    {
      "cell_type": "markdown",
      "metadata": {
        "id": "kpDND3ElLy1S"
      },
      "source": [
        "## Usando BERT"
      ]
    },
    {
      "cell_type": "code",
      "execution_count": null,
      "metadata": {
        "ExecuteTime": {
          "end_time": "2020-09-05T11:36:28.525378Z",
          "start_time": "2020-09-05T11:36:28.506509Z"
        },
        "id": "xSXMckE9Ly1S"
      },
      "outputs": [],
      "source": [
        "# libros similares al libro de id 41865 (Twilight) utilizando distancia euclideana. se puede cambiar a \"cosine\"\n",
        "similar_books = find_similar_books(bert_featmat, query_id = 3, metric = 'euclidean', topk=10 )\n",
        "similar_books"
      ]
    },
    {
      "cell_type": "code",
      "execution_count": null,
      "metadata": {
        "ExecuteTime": {
          "end_time": "2020-09-05T11:36:30.385056Z",
          "start_time": "2020-09-05T11:36:30.374035Z"
        },
        "id": "ewrZUZUcLy1V"
      },
      "outputs": [],
      "source": [
        "df_books[df_books.book_id.isin(similar_books)][['book_id', 'original_title', 'book_desc', 'authors']]"
      ]
    },
    {
      "cell_type": "markdown",
      "metadata": {
        "id": "huFoq1AuLy1X"
      },
      "source": [
        "## Usando BERT reducidos con PCA"
      ]
    },
    {
      "cell_type": "code",
      "execution_count": null,
      "metadata": {
        "ExecuteTime": {
          "end_time": "2020-09-05T11:36:54.729372Z",
          "start_time": "2020-09-05T11:36:54.711530Z"
        },
        "id": "fUMrLGAcLy1Y"
      },
      "outputs": [],
      "source": [
        "# libros similares al libro de id 41865 (Twilight) utilizando distancia euclideana. se puede cambiar a \"cosine\"\n",
        "similar_books = find_similar_books(pca20_bert_featmat, query_id = 3, metric = 'euclidean', topk=10 )\n",
        "similar_books"
      ]
    },
    {
      "cell_type": "code",
      "execution_count": null,
      "metadata": {
        "ExecuteTime": {
          "end_time": "2020-09-05T11:36:56.144766Z",
          "start_time": "2020-09-05T11:36:56.133793Z"
        },
        "id": "1-F1PEPvLy1a"
      },
      "outputs": [],
      "source": [
        "df_books[df_books.book_id.isin(similar_books)][['book_id', 'original_title', 'book_desc', 'authors']]"
      ]
    },
    {
      "cell_type": "markdown",
      "metadata": {
        "id": "VW8iuwo8Ly1c"
      },
      "source": [
        "## Usando BERT-large"
      ]
    },
    {
      "cell_type": "code",
      "execution_count": null,
      "metadata": {
        "ExecuteTime": {
          "end_time": "2020-09-05T11:37:00.366878Z",
          "start_time": "2020-09-05T11:37:00.344896Z"
        },
        "id": "Owe0gMlcLy1c"
      },
      "outputs": [],
      "source": [
        "# libros similares al libro de id 41865 (Twilight) utilizando distancia euclideana. se puede cambiar a \"cosine\"\n",
        "similar_books = find_similar_books(bert_large_featmat, query_id = 3, metric = 'euclidean', topk=10 )\n",
        "similar_books"
      ]
    },
    {
      "cell_type": "code",
      "execution_count": null,
      "metadata": {
        "ExecuteTime": {
          "end_time": "2020-09-05T11:37:01.359277Z",
          "start_time": "2020-09-05T11:37:01.346504Z"
        },
        "id": "5icRMPVMLy1e"
      },
      "outputs": [],
      "source": [
        "df_books[df_books.book_id.isin(similar_books)][['book_id', 'original_title', 'book_desc', 'authors']]"
      ]
    },
    {
      "cell_type": "markdown",
      "metadata": {
        "id": "GhcdSuO8Ly1h"
      },
      "source": [
        "## Usando BERT-large reducidos con PCA"
      ]
    },
    {
      "cell_type": "code",
      "execution_count": null,
      "metadata": {
        "ExecuteTime": {
          "end_time": "2020-09-05T11:37:06.242137Z",
          "start_time": "2020-09-05T11:37:06.227193Z"
        },
        "id": "xj6IXe1qLy1i"
      },
      "outputs": [],
      "source": [
        "# libros similares al libro de id 41865 (Twilight) utilizando distancia euclideana. se puede cambiar a \"cosine\"\n",
        "similar_books = find_similar_books(pca20_bert_large_featmat, query_id = 3, metric = 'euclidean', topk=10 )\n",
        "similar_books"
      ]
    },
    {
      "cell_type": "code",
      "execution_count": null,
      "metadata": {
        "ExecuteTime": {
          "end_time": "2020-09-05T11:37:08.218656Z",
          "start_time": "2020-09-05T11:37:08.206096Z"
        },
        "id": "aD5dtU16Ly1k"
      },
      "outputs": [],
      "source": [
        "df_books[df_books.book_id.isin(similar_books)][['book_id', 'original_title', 'book_desc', 'authors']]"
      ]
    },
    {
      "cell_type": "markdown",
      "metadata": {
        "id": "zaL2FqeJLy1m"
      },
      "source": [
        "### Pregunta 3:\n",
        "Comente los resultados obtenidos, en cuanto a modelo de lenguaje, reduccion de dimensionalidad y métrica de distancia utilizada.\n"
      ]
    },
    {
      "cell_type": "markdown",
      "metadata": {
        "id": "QmWOYk78Ly1n"
      },
      "source": [
        "**Respuesta 3:**"
      ]
    },
    {
      "cell_type": "markdown",
      "metadata": {
        "id": "9DCWpJ15Ly1n"
      },
      "source": [
        "# Recomendaciones"
      ]
    },
    {
      "cell_type": "code",
      "execution_count": null,
      "metadata": {
        "ExecuteTime": {
          "end_time": "2020-09-05T11:37:43.885802Z",
          "start_time": "2020-09-05T11:37:43.881309Z"
        },
        "id": "A4RyjVZrLy1o"
      },
      "outputs": [],
      "source": [
        "# format results\n",
        "pd.options.display.max_colwidth = 50\n",
        "#pd.set_option('display.max_colwidth', -1)"
      ]
    },
    {
      "cell_type": "markdown",
      "metadata": {
        "id": "X8sMoG8cLy1q"
      },
      "source": [
        "## Función para obtener recomendacion para cada usuario"
      ]
    },
    {
      "cell_type": "code",
      "execution_count": null,
      "metadata": {
        "ExecuteTime": {
          "end_time": "2020-09-05T11:37:45.370939Z",
          "start_time": "2020-09-05T11:37:45.366450Z"
        },
        "id": "HtY3EYYFLy1q"
      },
      "outputs": [],
      "source": [
        "def recommend(embedding, user_id=None, topk=10, metric='cosine'):\n",
        "\n",
        "    #print(\"user_id = \", user_id)\n",
        "\n",
        "    user_id = str(user_id)\n",
        "\n",
        "    #Calculate distance metrics\n",
        "    trx = user_interactions[user_id]\n",
        "    n = embedding.shape[0]\n",
        "    distances = 1e9\n",
        "\n",
        "    # recorremos transacciones pasadas del usuario\n",
        "    for t in trx:\n",
        "        query_i = bookid2idx[t]\n",
        "\n",
        "        # recomendamos items más cercanos a items con los que interactuó el usuario\n",
        "        distances = np.minimum(distances, pairwise_distances(\n",
        "                embedding[query_i].reshape(1,-1), embedding, metric=metric).reshape(-1))\n",
        "\n",
        "    #Rank items de menor a mayor distancia (nos quedamos con los topk)\n",
        "    trx_set = set(trx)\n",
        "    heap = []\n",
        "    for i in range(n):\n",
        "        if idx2bookid[i] in trx_set:\n",
        "            continue\n",
        "        if len(heap) < topk:\n",
        "            heapq.heappush(heap, (-distances[i], i))\n",
        "        else:\n",
        "            heapq.heappushpop(heap, (-distances[i], i))\n",
        "    heap.sort(reverse=True)\n",
        "\n",
        "    # utilizamos un heap para extraer los items ordenados de menor a mayor distancia\n",
        "    recommended_ids = [idx2bookid[i] for _,i in heap]\n",
        "\n",
        "    # retornar los que el usuario no haya consumido\n",
        "    filtered_recommended_ids = []\n",
        "\n",
        "    return recommended_ids"
      ]
    },
    {
      "cell_type": "markdown",
      "metadata": {
        "id": "POjgLB2tLy1s"
      },
      "source": [
        "## Generar recomendaciones para un usuario en particular"
      ]
    },
    {
      "cell_type": "code",
      "execution_count": null,
      "metadata": {
        "ExecuteTime": {
          "end_time": "2020-09-05T11:37:47.616219Z",
          "start_time": "2020-09-05T11:37:47.599838Z"
        },
        "id": "ThGkxIXzLy1s"
      },
      "outputs": [],
      "source": [
        "# recomendación para el usuario id = 49299 , utilizando bert con reduccion de dimensionalidad a 20\n",
        "user_id = '50101'\n",
        "rec = recommend(pca20_bert_featmat, user_id=user_id, topk=15)\n",
        "rec"
      ]
    },
    {
      "cell_type": "markdown",
      "metadata": {
        "id": "Ly9T0cQ7Ly1u"
      },
      "source": [
        "## Transacciones pasadas del usuario"
      ]
    },
    {
      "cell_type": "code",
      "execution_count": null,
      "metadata": {
        "ExecuteTime": {
          "end_time": "2020-09-05T11:38:28.373698Z",
          "start_time": "2020-09-05T11:38:28.362478Z"
        },
        "id": "-ReUvp9MLy1v"
      },
      "outputs": [],
      "source": [
        "past_interactions = user_interactions[str(user_id)]\n",
        "\n",
        "df_books[df_books['book_id'].isin(past_interactions)][['book_id', 'original_title', 'book_desc', 'authors']]\n"
      ]
    },
    {
      "cell_type": "markdown",
      "metadata": {
        "id": "9l-bFL66Ly1x"
      },
      "source": [
        "## Información de recomendaciones"
      ]
    },
    {
      "cell_type": "code",
      "execution_count": null,
      "metadata": {
        "ExecuteTime": {
          "end_time": "2020-09-05T11:38:40.965414Z",
          "start_time": "2020-09-05T11:38:40.953210Z"
        },
        "id": "tEXlU8CFLy1y"
      },
      "outputs": [],
      "source": [
        "df_books[df_books['book_id'].isin(rec)][['book_id', 'original_title', 'book_desc', 'authors']]"
      ]
    },
    {
      "cell_type": "markdown",
      "metadata": {
        "id": "N4o9xRnBLy10"
      },
      "source": [
        "# Evaluación de las recomendaciones con interacciones de testing"
      ]
    },
    {
      "cell_type": "code",
      "execution_count": null,
      "metadata": {
        "ExecuteTime": {
          "end_time": "2020-09-05T11:38:43.009079Z",
          "start_time": "2020-09-05T11:38:43.002843Z"
        },
        "id": "Qvz2y2E4Ly10"
      },
      "outputs": [],
      "source": [
        "# Métricas de evaluación\n",
        "# Obtenido de https://gist.github.com/bwhite/3726239\n",
        "\n",
        "def precision_at_k(r, k):\n",
        "    assert k >= 1\n",
        "    r = np.asarray(r)[:k] != 0\n",
        "    if r.size != k:\n",
        "        raise ValueError('Relevance score length < k')\n",
        "    return np.mean(r)\n",
        "\n",
        "def average_precision(r):\n",
        "    r = np.asarray(r) != 0\n",
        "    out = [precision_at_k(r, k + 1) for k in range(r.size) if r[k]]\n",
        "    if not out:\n",
        "        return 0.\n",
        "    return np.mean(out)\n",
        "\n",
        "def mean_average_precision(rs):\n",
        "    return np.mean([average_precision(r) for r in rs])\n",
        "\n",
        "def dcg_at_k(r, k):\n",
        "    r = np.asarray(r)[:k]\n",
        "    if r.size:\n",
        "        return np.sum(np.subtract(np.power(2, r), 1) / np.log2(np.arange(2, r.size + 2)))\n",
        "    return 0.\n",
        "\n",
        "\n",
        "def ndcg_at_k(r, k):\n",
        "    idcg = dcg_at_k(sorted(r, reverse=True), k)\n",
        "\n",
        "    if not idcg:\n",
        "        return 0.\n",
        "    return dcg_at_k(r, k) / idcg\n"
      ]
    },
    {
      "cell_type": "markdown",
      "metadata": {
        "id": "oofEikZALy12"
      },
      "source": [
        "## Evaluación de recomendación con BERT"
      ]
    },
    {
      "cell_type": "code",
      "execution_count": null,
      "metadata": {
        "ExecuteTime": {
          "end_time": "2020-09-05T11:54:57.762827Z",
          "start_time": "2020-09-05T11:47:32.339841Z"
        },
        "colab": {
          "base_uri": "https://localhost:8080/"
        },
        "id": "sSpU6zYVLy12",
        "outputId": "7994a275-379d-437c-be38-4acab0f4160b"
      },
      "outputs": [
        {
          "name": "stdout",
          "output_type": "stream",
          "text": []
        }
      ],
      "source": [
        "start = time.time()\n",
        "\n",
        "mean_map = 0.\n",
        "mean_ndcg = 0.\n",
        "\n",
        "embeddings = pca20_bert_featmat\n",
        "topk = 10\n",
        "\n",
        "for i, u in enumerate(user_interactions_test.keys()):\n",
        "\n",
        "    print(i, end= '\\r')\n",
        "\n",
        "    rec = recommend(bert_featmat, user_id = u, topk=topk)\n",
        "    rel_vector = [np.isin(user_interactions_test[u], rec, assume_unique=True).astype(int)]\n",
        "    mean_map += mean_average_precision(rel_vector)\n",
        "    mean_ndcg += ndcg_at_k(rel_vector, topk)\n",
        "\n",
        "mean_map /= len(user_interactions_test)\n",
        "mean_ndcg /= len(user_interactions_test)\n",
        "\n",
        "time_taken = time.time() - start\n"
      ]
    },
    {
      "cell_type": "code",
      "execution_count": null,
      "metadata": {
        "ExecuteTime": {
          "end_time": "2020-09-05T11:54:57.775349Z",
          "start_time": "2020-09-05T11:54:57.768617Z"
        },
        "id": "3Qkkdim6Ly14"
      },
      "outputs": [],
      "source": [
        "print('MAP ',mean_map)\n",
        "print('ndcg@10' ,mean_ndcg)\n",
        "print('tiempo de ejecucion {0:.2f} segs'.format(time_taken))\n"
      ]
    },
    {
      "cell_type": "markdown",
      "metadata": {
        "id": "F_FMcK2yLy16"
      },
      "source": [
        "## Evaluación de recomendación con BERT reducidos con PCA-20"
      ]
    },
    {
      "cell_type": "code",
      "execution_count": null,
      "metadata": {
        "ExecuteTime": {
          "end_time": "2020-09-05T11:55:52.953263Z",
          "start_time": "2020-09-05T11:54:57.781015Z"
        },
        "id": "4IBT6rDOLy16"
      },
      "outputs": [],
      "source": [
        "start = time.time()\n",
        "\n",
        "mean_map = 0.\n",
        "mean_ndcg = 0.\n",
        "\n",
        "embeddings = pca20_bert_featmat\n",
        "topk = 10\n",
        "\n",
        "for i, u in enumerate(user_interactions_test.keys()):\n",
        "\n",
        "    print(i, end= '\\r')\n",
        "\n",
        "    rec = recommend(pca20_bert_featmat, user_id = u, topk=topk)\n",
        "    rel_vector = [np.isin(user_interactions_test[u], rec, assume_unique=True).astype(int)]\n",
        "    mean_map += mean_average_precision(rel_vector)\n",
        "    mean_ndcg += ndcg_at_k(rel_vector, topk)\n",
        "\n",
        "mean_map /= len(user_interactions_test)\n",
        "mean_ndcg /= len(user_interactions_test)\n",
        "\n",
        "time_taken = time.time() - start\n"
      ]
    },
    {
      "cell_type": "code",
      "execution_count": null,
      "metadata": {
        "ExecuteTime": {
          "end_time": "2020-09-05T11:55:52.966297Z",
          "start_time": "2020-09-05T11:55:52.959124Z"
        },
        "id": "RgOgkEliLy18"
      },
      "outputs": [],
      "source": [
        "print('MAP ',mean_map)\n",
        "print('ndcg@10' ,mean_ndcg)\n",
        "print('tiempo de ejecucion {0:.2f} segs'.format(time_taken))"
      ]
    },
    {
      "cell_type": "markdown",
      "metadata": {
        "id": "U7PTmqLTLy1-"
      },
      "source": [
        "## Evaluación de recomendación con BERT-large"
      ]
    },
    {
      "cell_type": "code",
      "execution_count": null,
      "metadata": {
        "ExecuteTime": {
          "end_time": "2020-09-05T12:05:15.113219Z",
          "start_time": "2020-09-05T11:55:52.972248Z"
        },
        "id": "xa2NVGpWLy1_"
      },
      "outputs": [],
      "source": [
        "start = time.time()\n",
        "\n",
        "mean_map = 0.\n",
        "mean_ndcg = 0.\n",
        "\n",
        "topk = 10\n",
        "\n",
        "for i, u in enumerate(user_interactions_test.keys()):\n",
        "\n",
        "    print(i, end= '\\r')\n",
        "\n",
        "    rec = recommend(bert_large_featmat, user_id = u, topk=topk)\n",
        "    rel_vector = [np.isin(user_interactions_test[u], rec, assume_unique=True).astype(int)]\n",
        "    mean_map += mean_average_precision(rel_vector)\n",
        "    mean_ndcg += ndcg_at_k(rel_vector, topk)\n",
        "\n",
        "mean_map /= len(user_interactions_test)\n",
        "mean_ndcg /= len(user_interactions_test)\n",
        "\n",
        "time_taken = time.time() - start"
      ]
    },
    {
      "cell_type": "code",
      "execution_count": null,
      "metadata": {
        "ExecuteTime": {
          "end_time": "2020-09-05T12:05:15.125773Z",
          "start_time": "2020-09-05T12:05:15.119007Z"
        },
        "id": "RkNoQttGLy2A"
      },
      "outputs": [],
      "source": [
        "print('MAP ',mean_map)\n",
        "print('ndcg@10' ,mean_ndcg)\n",
        "print('tiempo de ejecucion {0:.2f} segs'.format(time_taken))"
      ]
    },
    {
      "cell_type": "markdown",
      "metadata": {
        "id": "NXcryQvTLy2C"
      },
      "source": [
        "## Evaluación de recomendación con BERT-large reducidos con PCA-20"
      ]
    },
    {
      "cell_type": "code",
      "execution_count": null,
      "metadata": {
        "ExecuteTime": {
          "end_time": "2020-09-05T12:06:10.370488Z",
          "start_time": "2020-09-05T12:05:15.131410Z"
        },
        "id": "azXZQg8DLy2D"
      },
      "outputs": [],
      "source": [
        "start = time.time()\n",
        "\n",
        "mean_map = 0.\n",
        "mean_ndcg = 0.\n",
        "\n",
        "topk = 10\n",
        "\n",
        "for i, u in enumerate(user_interactions_test.keys()):\n",
        "\n",
        "    print(i, end= '\\r')\n",
        "\n",
        "    rec = recommend(pca20_bert_large_featmat, user_id = u, topk=topk)\n",
        "    rel_vector = [np.isin(user_interactions_test[u], rec, assume_unique=True).astype(int)]\n",
        "    mean_map += mean_average_precision(rel_vector)\n",
        "    mean_ndcg += ndcg_at_k(rel_vector, topk)\n",
        "\n",
        "mean_map /= len(user_interactions_test)\n",
        "mean_ndcg /= len(user_interactions_test)\n",
        "\n",
        "time_taken = time.time() - start\n"
      ]
    },
    {
      "cell_type": "code",
      "execution_count": null,
      "metadata": {
        "ExecuteTime": {
          "end_time": "2020-09-05T12:06:10.382416Z",
          "start_time": "2020-09-05T12:06:10.376361Z"
        },
        "id": "cftp6LOsLy2G"
      },
      "outputs": [],
      "source": [
        "print('MAP ',mean_map)\n",
        "print('ndcg@10' ,mean_ndcg)\n",
        "print('tiempo de ejecucion {0:.2f} segs'.format(time_taken))"
      ]
    },
    {
      "cell_type": "markdown",
      "metadata": {
        "id": "1D21lw6qLy2I"
      },
      "source": [
        "### Pregunta 4:\n",
        "- Comente los resultados en términos de tiempo de ejecución y métricas de ranking para los 4 modelos."
      ]
    },
    {
      "cell_type": "markdown",
      "metadata": {
        "id": "5T1fYoh2Ly2I"
      },
      "source": [
        "**Respuesta 4:**"
      ]
    }
  ],
  "metadata": {
    "accelerator": "GPU",
    "colab": {
      "collapsed_sections": [
        "vZTjzT8oLy1N",
        "QmWOYk78Ly1n"
      ],
      "gpuType": "T4",
      "provenance": []
    },
    "kernelspec": {
      "display_name": "Python 3",
      "name": "python3"
    },
    "language_info": {
      "codemirror_mode": {
        "name": "ipython",
        "version": 3
      },
      "file_extension": ".py",
      "mimetype": "text/x-python",
      "name": "python",
      "nbconvert_exporter": "python",
      "pygments_lexer": "ipython3",
      "version": "3.6.0"
    },
    "toc": {
      "base_numbering": 1,
      "nav_menu": {},
      "number_sections": true,
      "sideBar": true,
      "skip_h1_title": false,
      "title_cell": "Table of Contents",
      "title_sidebar": "Contents",
      "toc_cell": false,
      "toc_position": {},
      "toc_section_display": true,
      "toc_window_display": false
    }
  },
  "nbformat": 4,
  "nbformat_minor": 0
}
